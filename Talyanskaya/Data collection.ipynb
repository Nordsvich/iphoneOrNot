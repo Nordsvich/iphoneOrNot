{
 "cells": [
  {
   "cell_type": "markdown",
   "metadata": {},
   "source": [
    "# Data collection\n",
    "As it was allowed to use common dataset for the whole group, the duties were ditributed in accordance with each others capabilities.\n",
    "All technical part of data collection was processed by Alexandr Marinsky and Anton Anisimov (they used a little bit different approach and their code is available in their repositories), but the final cleaning of dataset was conducted by the forces of the rest of the group who manually checked and deleted all inappropriate images. Many thanks to all who took part in that.\n",
    "\n",
    "In general, dataset consisted of almost 50 000 images of two classes of approximately the same size: \n",
    "- iphones (all existing models since 3rd)\n",
    "- non-iphones (all other phone trademarks ditrubuted in accordance with their popularity)\n",
    "\n",
    "All the images were downloaded from Avito.ru website as a it's the largest source of user-generated content in Russian segment of Internet."
   ]
  }
 ],
 "metadata": {
  "kernelspec": {
   "display_name": "Python 3",
   "language": "python",
   "name": "python3"
  },
  "language_info": {
   "codemirror_mode": {
    "name": "ipython",
    "version": 3
   },
   "file_extension": ".py",
   "mimetype": "text/x-python",
   "name": "python",
   "nbconvert_exporter": "python",
   "pygments_lexer": "ipython3",
   "version": "3.6.3"
  }
 },
 "nbformat": 4,
 "nbformat_minor": 2
}
