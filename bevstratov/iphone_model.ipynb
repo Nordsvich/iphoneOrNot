{
  "nbformat": 4,
  "nbformat_minor": 0,
  "metadata": {
    "colab": {
      "name": "iphone-model.ipynb",
      "version": "0.3.2",
      "provenance": [],
      "toc_visible": true
    },
    "language_info": {
      "codemirror_mode": {
        "name": "ipython",
        "version": 3
      },
      "file_extension": ".py",
      "mimetype": "text/x-python",
      "name": "python",
      "nbconvert_exporter": "python",
      "pygments_lexer": "ipython3",
      "version": "3.6.3"
    },
    "kernelspec": {
      "name": "python3",
      "display_name": "Python 3"
    },
    "accelerator": "GPU"
  },
  "cells": [
    {
      "cell_type": "markdown",
      "metadata": {
        "id": "B63VqmmTz4nA",
        "colab_type": "text"
      },
      "source": [
        "# Final Project: iPhone or Not\n",
        "*Boris Evstratov*"
      ]
    },
    {
      "cell_type": "markdown",
      "metadata": {
        "id": "0wSBJLXlkMCK",
        "colab_type": "text"
      },
      "source": [
        "### 0. Importing packages"
      ]
    },
    {
      "cell_type": "code",
      "metadata": {
        "id": "hgXp4iXrkMCM",
        "colab_type": "code",
        "colab": {}
      },
      "source": [
        "from keras import models, layers\n",
        "from keras.layers import Input, Add, Dense, Activation, ZeroPadding2D, BatchNormalization, Flatten, Conv2D, AveragePooling2D, MaxPooling2D, GlobalMaxPooling2D\n",
        "from keras.models import Model, load_model, Sequential\n",
        "from keras.preprocessing.image import ImageDataGenerator\n",
        "from keras.callbacks import ModelCheckpoint\n",
        "from keras.initializers import glorot_uniform\n",
        "from keras.utils import to_categorical\n",
        "from sklearn.metrics import average_precision_score, precision_recall_curve\n",
        "import tensorflow as tf\n",
        "from tensorflow.contrib import lite\n",
        "import numpy as np\n",
        "import matplotlib.pyplot as plt\n",
        "\n",
        "import keras.backend as K\n",
        "K.set_image_data_format('channels_last')\n",
        "K.set_learning_phase(1)"
      ],
      "execution_count": 0,
      "outputs": []
    },
    {
      "cell_type": "markdown",
      "metadata": {
        "id": "GedFXX-nkMCW",
        "colab_type": "text"
      },
      "source": [
        "### 1. Creating a Residual Network\n",
        "*source*: [Hitchhiker’s Guide to Residual Networks (ResNet) in Keras](https://towardsdatascience.com/hitchhikers-guide-to-residual-networks-resnet-in-keras-385ec01ec8ff)"
      ]
    },
    {
      "cell_type": "markdown",
      "metadata": {
        "id": "V7koQNSikMCX",
        "colab_type": "text"
      },
      "source": [
        "#### 1.1 Define the identity block"
      ]
    },
    {
      "cell_type": "code",
      "metadata": {
        "id": "HTSaaDhXkMCZ",
        "colab_type": "code",
        "colab": {}
      },
      "source": [
        "def identity_block(X, f, filters, stage, block):\n",
        "    \n",
        "    # Defining name basis\n",
        "    conv_name_base = 'res' + str(stage) + block + '_branch'\n",
        "    bn_name_base = 'bn' + str(stage) + block + '_branch'\n",
        "    \n",
        "    # Retrieve Filters\n",
        "    F1, F2, F3 = filters\n",
        "    \n",
        "    # Save the input value\n",
        "    X_shortcut = X\n",
        "    \n",
        "    # First component of main path\n",
        "    X = Conv2D(filters = F1, kernel_size = (1, 1), strides = (1,1), padding = 'valid', name = conv_name_base + '2a', kernel_initializer = glorot_uniform(seed=0))(X)\n",
        "    X = BatchNormalization(axis = 3, name = bn_name_base + '2a')(X)\n",
        "    X = Activation('relu')(X)\n",
        "    \n",
        "    # Second component of main path\n",
        "    X = Conv2D(filters = F2, kernel_size = (f, f), strides = (1, 1), padding = 'same', name = conv_name_base + '2b', kernel_initializer = glorot_uniform(seed=0))(X)\n",
        "    X = BatchNormalization(axis = 3, name = bn_name_base + '2b')(X)\n",
        "    X = Activation('relu')(X)\n",
        "\n",
        "    # Third component of main path \n",
        "    X = Conv2D(filters = F3, kernel_size = (1, 1), strides = (1, 1), padding = 'valid', name = conv_name_base + '2c', kernel_initializer = glorot_uniform(seed=0))(X)\n",
        "    X = BatchNormalization(axis = 3, name = bn_name_base + '2c')(X)\n",
        "\n",
        "    # Final step: Add shortcut value to main path, and pass it through a RELU activation\n",
        "    X = Add()([X, X_shortcut])\n",
        "    X = Activation('relu')(X)\n",
        "    \n",
        "    return X"
      ],
      "execution_count": 0,
      "outputs": []
    },
    {
      "cell_type": "markdown",
      "metadata": {
        "id": "KpudnWBAkMCb",
        "colab_type": "text"
      },
      "source": [
        "#### 1.2 Define the convolution block"
      ]
    },
    {
      "cell_type": "code",
      "metadata": {
        "id": "5jlbKIE9kMCc",
        "colab_type": "code",
        "colab": {}
      },
      "source": [
        "def convolutional_block(X, f, filters, stage, block, s=2):\n",
        "\n",
        "    # Defining name basis\n",
        "    conv_name_base = 'res' + str(stage) + block + '_branch'\n",
        "    bn_name_base = 'bn' + str(stage) + block + '_branch'\n",
        "\n",
        "    # Retrieve Filters\n",
        "    F1, F2, F3 = filters\n",
        "\n",
        "    # Save the input value\n",
        "    X_shortcut = X\n",
        "\n",
        "    ##### MAIN PATH #####\n",
        "    # First component of main path \n",
        "    X = Conv2D(filters=F1, kernel_size=(1, 1), strides=(s, s), padding='valid', name=conv_name_base + '2a', kernel_initializer=glorot_uniform(seed=0))(X)\n",
        "    X = BatchNormalization(axis=3, name=bn_name_base + '2a')(X)\n",
        "    X = Activation('relu')(X)\n",
        "\n",
        "    # Second component of main path\n",
        "    X = Conv2D(filters=F2, kernel_size=(f, f), strides=(1, 1), padding='same', name=conv_name_base + '2b', kernel_initializer=glorot_uniform(seed=0))(X)\n",
        "    X = BatchNormalization(axis=3, name=bn_name_base + '2b')(X)\n",
        "    X = Activation('relu')(X)\n",
        "\n",
        "    # Third component of main path\n",
        "    X = Conv2D(filters=F3, kernel_size=(1, 1), strides=(1, 1), padding='valid', name=conv_name_base + '2c', kernel_initializer=glorot_uniform(seed=0))(X)\n",
        "    X = BatchNormalization(axis=3, name=bn_name_base + '2c')(X)\n",
        "\n",
        "    ##### SHORTCUT PATH #### \n",
        "    X_shortcut = Conv2D(filters=F3, kernel_size=(1, 1), strides=(s, s), padding='valid', name=conv_name_base + '1', kernel_initializer=glorot_uniform(seed=0))(X_shortcut)\n",
        "    X_shortcut = BatchNormalization(axis=3, name=bn_name_base + '1')(X_shortcut)\n",
        "\n",
        "    # Final step: Add shortcut value to main path, and pass it through a RELU activation\n",
        "    X = Add()([X, X_shortcut])\n",
        "    X = Activation('relu')(X)\n",
        "\n",
        "    return X"
      ],
      "execution_count": 0,
      "outputs": []
    },
    {
      "cell_type": "markdown",
      "metadata": {
        "id": "mBP1hQ0SkMCf",
        "colab_type": "text"
      },
      "source": [
        "#### 1.3 Biuld the model\n",
        "Combining both blocks into a 50-layer residual network"
      ]
    },
    {
      "cell_type": "code",
      "metadata": {
        "id": "qGbDH4HakMCg",
        "colab_type": "code",
        "colab": {}
      },
      "source": [
        "def ResNet50(input_shape = (64, 64, 3), classes = 6):\n",
        "    \n",
        "    # Define the input as a tensor with shape input_shape\n",
        "    X_input = Input(input_shape)\n",
        "    \n",
        "    # Zero-Padding\n",
        "    X = ZeroPadding2D((3, 3))(X_input)\n",
        "    \n",
        "    # Stage 1\n",
        "    X = Conv2D(64, (7, 7), strides = (2, 2), name = 'conv1', kernel_initializer = glorot_uniform(seed=0))(X)\n",
        "    X = BatchNormalization(axis = 3, name = 'bn_conv1')(X)\n",
        "    X = Activation('relu')(X)\n",
        "    X = MaxPooling2D((3, 3), strides=(2, 2))(X)\n",
        "\n",
        "    # Stage 2\n",
        "    X = convolutional_block(X, f = 3, filters = [64, 64, 256], stage = 2, block='a', s = 1)\n",
        "    X = identity_block(X, 3, [64, 64, 256], stage=2, block='b')\n",
        "    X = identity_block(X, 3, [64, 64, 256], stage=2, block='c')\n",
        "\n",
        "    # Stage 3\n",
        "    X = convolutional_block(X, f=3, filters=[128, 128, 512], stage=3, block='a', s=2)\n",
        "    X = identity_block(X, 3, [128, 128, 512], stage=3, block='b')\n",
        "    X = identity_block(X, 3, [128, 128, 512], stage=3, block='c')\n",
        "    X = identity_block(X, 3, [128, 128, 512], stage=3, block='d')\n",
        "\n",
        "    # Stage 4\n",
        "    X = convolutional_block(X, f=3, filters=[256, 256, 1024], stage=4, block='a', s=2)\n",
        "    X = identity_block(X, 3, [256, 256, 1024], stage=4, block='b')\n",
        "    X = identity_block(X, 3, [256, 256, 1024], stage=4, block='c')\n",
        "    X = identity_block(X, 3, [256, 256, 1024], stage=4, block='d')\n",
        "    X = identity_block(X, 3, [256, 256, 1024], stage=4, block='e')\n",
        "    X = identity_block(X, 3, [256, 256, 1024], stage=4, block='f')\n",
        "\n",
        "    # Stage 5\n",
        "    X = convolutional_block(X, f=3, filters=[512, 512, 2048], stage=5, block='a', s=2)\n",
        "    X = identity_block(X, 3, [512, 512, 2048], stage=5, block='b')\n",
        "    X = identity_block(X, 3, [512, 512, 2048], stage=5, block='c')\n",
        "\n",
        "    # AVGPOOL\n",
        "    X = AveragePooling2D(pool_size=(2,2), padding='same')(X)\n",
        "\n",
        "    # Output layer\n",
        "    X = Flatten()(X)\n",
        "    X = Dense(classes, activation='softmax', name='fc' + str(classes), kernel_initializer = glorot_uniform(seed=0))(X)\n",
        "    \n",
        "    \n",
        "    # Create model\n",
        "    model = Model(inputs = X_input, outputs = X, name='ResNet50')\n",
        "\n",
        "    return model"
      ],
      "execution_count": 0,
      "outputs": []
    },
    {
      "cell_type": "markdown",
      "metadata": {
        "id": "fNmfrSDJkMCi",
        "colab_type": "text"
      },
      "source": [
        "### 2. Data management"
      ]
    },
    {
      "cell_type": "markdown",
      "metadata": {
        "id": "OgCZICUfkMCj",
        "colab_type": "text"
      },
      "source": [
        "#### 2.1 Data import"
      ]
    },
    {
      "cell_type": "code",
      "metadata": {
        "id": "NnEDmOwckMCj",
        "colab_type": "code",
        "colab": {}
      },
      "source": [
        "# Unzipping uploaded dataset\n",
        "from zipfile import ZipFile\n",
        "zip = ZipFile('data.zip')\n",
        "zip.extractall()"
      ],
      "execution_count": 0,
      "outputs": []
    },
    {
      "cell_type": "code",
      "metadata": {
        "id": "qz_T6OQmkMCl",
        "colab_type": "code",
        "colab": {}
      },
      "source": [
        "# Specifying data paths and necessary parameters\n",
        "dataset_path = 'data'\n",
        "train_path = dataset_path + '/train'\n",
        "test_path = dataset_path + '/test'\n",
        "image_res = 224\n",
        "batch_size = 32\n",
        "epochs_nb = 10"
      ],
      "execution_count": 0,
      "outputs": []
    },
    {
      "cell_type": "markdown",
      "metadata": {
        "id": "qblS4mg6kMCm",
        "colab_type": "text"
      },
      "source": [
        "#### 2.2 Data preprocessing"
      ]
    },
    {
      "cell_type": "code",
      "metadata": {
        "id": "XOs6jH5ykMCm",
        "colab_type": "code",
        "colab": {}
      },
      "source": [
        "# Setting ImageDataGenerators\n",
        "train_datagen = ImageDataGenerator(brightness_range = [0.3, 1.5], \n",
        "                                   channel_shift_range = 30,\n",
        "                                   rescale = 1./255,\n",
        "                                   rotation_range = 90,\n",
        "                                   shear_range = 0.3,\n",
        "                                   zoom_range = 0.2,\n",
        "                                   vertical_flip = True,\n",
        "                                   horizontal_flip = True)\n",
        "\n",
        "test_datagen = ImageDataGenerator(rescale = 1./255)"
      ],
      "execution_count": 0,
      "outputs": []
    },
    {
      "cell_type": "code",
      "metadata": {
        "id": "G-dcX5FFkMCo",
        "colab_type": "code",
        "colab": {
          "base_uri": "https://localhost:8080/",
          "height": 51
        },
        "outputId": "1680dfbb-af7d-440f-9ded-8afbc6b4bb79"
      },
      "source": [
        "# Generating Flows from directories\n",
        "train_set = train_datagen.flow_from_directory(train_path,\n",
        "                                                 target_size = (image_res, image_res),\n",
        "                                                 batch_size = batch_size,\n",
        "                                                 class_mode = 'binary')\n",
        "\n",
        "test_set = test_datagen.flow_from_directory(test_path,\n",
        "                                            target_size = (image_res, image_res),\n",
        "                                            batch_size = batch_size,\n",
        "                                            class_mode = 'binary',\n",
        "                                            shuffle=False)"
      ],
      "execution_count": 8,
      "outputs": [
        {
          "output_type": "stream",
          "text": [
            "Found 24457 images belonging to 2 classes.\n",
            "Found 6884 images belonging to 2 classes.\n"
          ],
          "name": "stdout"
        }
      ]
    },
    {
      "cell_type": "markdown",
      "metadata": {
        "id": "j2B34T4TkMCq",
        "colab_type": "text"
      },
      "source": [
        "### 3. Model training"
      ]
    },
    {
      "cell_type": "code",
      "metadata": {
        "id": "oHdUxkGjkMCq",
        "colab_type": "code",
        "colab": {}
      },
      "source": [
        "model = ResNet50(input_shape = (image_res, image_res, 3), classes = 2)\n",
        "model.compile(optimizer='adam', loss='binary_crossentropy', metrics=['accuracy'])"
      ],
      "execution_count": 0,
      "outputs": []
    },
    {
      "cell_type": "code",
      "metadata": {
        "id": "ve8UynGFkMCr",
        "colab_type": "code",
        "colab": {}
      },
      "source": [
        "# Define checkpoints for CNN autosaving\n",
        "filepath= \"cnn-cv-iphone-resnet-50.hdf5\"\n",
        "checkpoint = ModelCheckpoint(filepath, monitor='acc', verbose=1, save_best_only=True, mode='max', save_weights_only=False)"
      ],
      "execution_count": 0,
      "outputs": []
    },
    {
      "cell_type": "code",
      "metadata": {
        "id": "-LUgXHfwkMCs",
        "colab_type": "code",
        "colab": {
          "base_uri": "https://localhost:8080/",
          "height": 1734
        },
        "outputId": "e9931c63-dde5-4130-cf07-fb5701ab431f"
      },
      "source": [
        "# Training the model\n",
        "model.fit_generator(train_set,\n",
        "                         steps_per_epoch = train_set.samples / batch_size,\n",
        "                         epochs = epochs_nb,\n",
        "                         validation_data = test_set,\n",
        "                         validation_steps = test_set.samples / batch_size,\n",
        "                         verbose = 1,\n",
        "                         callbacks=[checkpoint])"
      ],
      "execution_count": 13,
      "outputs": [
        {
          "output_type": "stream",
          "text": [
            "Epoch 1/25\n",
            "765/764 [==============================] - 428s 559ms/step - loss: 11.3266 - acc: 0.2895 - val_loss: 11.7368 - val_acc: 0.2638\n",
            "\n",
            "Epoch 00001: acc improved from -inf to 0.28949, saving model to cnn-cv-iphone-resnet-50.hdf5\n",
            "Epoch 2/25\n",
            "765/764 [==============================] - 425s 555ms/step - loss: 11.2094 - acc: 0.2969 - val_loss: 11.7368 - val_acc: 0.2638\n",
            "\n",
            "Epoch 00002: acc improved from 0.28949 to 0.29685, saving model to cnn-cv-iphone-resnet-50.hdf5\n",
            "Epoch 3/25\n",
            "765/764 [==============================] - 423s 553ms/step - loss: 11.3027 - acc: 0.2910 - val_loss: 11.7368 - val_acc: 0.2638\n",
            "\n",
            "Epoch 00003: acc did not improve from 0.29685\n",
            "Epoch 4/25\n",
            "765/764 [==============================] - 422s 552ms/step - loss: 11.2417 - acc: 0.2949 - val_loss: 11.7368 - val_acc: 0.2638\n",
            "\n",
            "Epoch 00004: acc did not improve from 0.29685\n",
            "Epoch 5/25\n",
            "765/764 [==============================] - 419s 547ms/step - loss: 11.3286 - acc: 0.2894 - val_loss: 11.7368 - val_acc: 0.2638\n",
            "\n",
            "Epoch 00005: acc did not improve from 0.29685\n",
            "Epoch 6/25\n",
            "765/764 [==============================] - 421s 551ms/step - loss: 11.3067 - acc: 0.2908 - val_loss: 11.7368 - val_acc: 0.2638\n",
            "\n",
            "Epoch 00006: acc did not improve from 0.29685\n",
            "Epoch 7/25\n",
            "765/764 [==============================] - 422s 552ms/step - loss: 11.2798 - acc: 0.2925 - val_loss: 11.7368 - val_acc: 0.2638\n",
            "\n",
            "Epoch 00007: acc did not improve from 0.29685\n",
            "Epoch 8/25\n",
            "765/764 [==============================] - 422s 552ms/step - loss: 11.2501 - acc: 0.2943 - val_loss: 11.7368 - val_acc: 0.2638\n",
            "\n",
            "Epoch 00008: acc did not improve from 0.29685\n",
            "Epoch 9/25\n",
            "765/764 [==============================] - 417s 546ms/step - loss: 11.3153 - acc: 0.2902 - val_loss: 11.7368 - val_acc: 0.2638\n",
            "\n",
            "Epoch 00009: acc did not improve from 0.29685\n",
            "Epoch 10/25\n",
            "765/764 [==============================] - 412s 538ms/step - loss: 11.3054 - acc: 0.2909 - val_loss: 11.7368 - val_acc: 0.2638\n",
            "\n",
            "Epoch 00010: acc did not improve from 0.29685\n",
            "Epoch 11/25\n",
            "765/764 [==============================] - 413s 539ms/step - loss: 11.2775 - acc: 0.2926 - val_loss: 11.7368 - val_acc: 0.2638\n",
            "\n",
            "Epoch 00011: acc did not improve from 0.29685\n",
            "Epoch 12/25\n",
            "765/764 [==============================] - 413s 540ms/step - loss: 11.2758 - acc: 0.2927 - val_loss: 11.7368 - val_acc: 0.2638\n",
            "\n",
            "Epoch 00012: acc did not improve from 0.29685\n",
            "Epoch 13/25\n",
            "765/764 [==============================] - 414s 541ms/step - loss: 11.2690 - acc: 0.2931 - val_loss: 11.7368 - val_acc: 0.2638\n",
            "\n",
            "Epoch 00013: acc did not improve from 0.29685\n",
            "Epoch 14/25\n",
            "765/764 [==============================] - 414s 541ms/step - loss: 11.3048 - acc: 0.2909 - val_loss: 11.7368 - val_acc: 0.2638\n",
            "\n",
            "Epoch 00014: acc did not improve from 0.29685\n",
            "Epoch 15/25\n",
            "765/764 [==============================] - 414s 541ms/step - loss: 11.3019 - acc: 0.2911 - val_loss: 11.7368 - val_acc: 0.2638\n",
            "\n",
            "Epoch 00015: acc did not improve from 0.29685\n",
            "Epoch 16/25\n",
            "765/764 [==============================] - 414s 542ms/step - loss: 11.2520 - acc: 0.2942 - val_loss: 11.7368 - val_acc: 0.2638\n",
            "\n",
            "Epoch 00016: acc did not improve from 0.29685\n",
            "Epoch 17/25\n",
            "765/764 [==============================] - 413s 540ms/step - loss: 11.2995 - acc: 0.2912 - val_loss: 11.7368 - val_acc: 0.2638\n",
            "\n",
            "Epoch 00017: acc did not improve from 0.29685\n",
            "Epoch 18/25\n",
            "765/764 [==============================] - 415s 542ms/step - loss: 11.2935 - acc: 0.2916 - val_loss: 11.7368 - val_acc: 0.2638\n",
            "\n",
            "Epoch 00018: acc did not improve from 0.29685\n",
            "Epoch 19/25\n",
            "765/764 [==============================] - 412s 539ms/step - loss: 11.3026 - acc: 0.2910 - val_loss: 11.7368 - val_acc: 0.2638\n",
            "\n",
            "Epoch 00019: acc did not improve from 0.29685\n",
            "Epoch 20/25\n",
            "765/764 [==============================] - 412s 538ms/step - loss: 11.2973 - acc: 0.2914 - val_loss: 11.7368 - val_acc: 0.2638\n",
            "\n",
            "Epoch 00020: acc did not improve from 0.29685\n",
            "Epoch 21/25\n",
            "765/764 [==============================] - 413s 539ms/step - loss: 11.2449 - acc: 0.2947 - val_loss: 11.7368 - val_acc: 0.2638\n",
            "\n",
            "Epoch 00021: acc did not improve from 0.29685\n",
            "Epoch 22/25\n",
            "765/764 [==============================] - 413s 539ms/step - loss: 11.2791 - acc: 0.2925 - val_loss: 11.7368 - val_acc: 0.2638\n",
            "\n",
            "Epoch 00022: acc did not improve from 0.29685\n",
            "Epoch 23/25\n",
            "765/764 [==============================] - 412s 538ms/step - loss: 11.2638 - acc: 0.2935 - val_loss: 11.7368 - val_acc: 0.2638\n",
            "\n",
            "Epoch 00023: acc did not improve from 0.29685\n",
            "Epoch 24/25\n",
            "765/764 [==============================] - 413s 540ms/step - loss: 11.3240 - acc: 0.2897 - val_loss: 11.7368 - val_acc: 0.2638\n",
            "\n",
            "Epoch 00024: acc did not improve from 0.29685\n",
            "Epoch 25/25\n",
            "765/764 [==============================] - 413s 540ms/step - loss: 11.2605 - acc: 0.2937 - val_loss: 11.7368 - val_acc: 0.2638\n",
            "\n",
            "Epoch 00025: acc did not improve from 0.29685\n"
          ],
          "name": "stdout"
        },
        {
          "output_type": "execute_result",
          "data": {
            "text/plain": [
              "<keras.callbacks.History at 0x7f4ed06df0f0>"
            ]
          },
          "metadata": {
            "tags": []
          },
          "execution_count": 13
        }
      ]
    },
    {
      "cell_type": "code",
      "metadata": {
        "id": "jmV1ZkILkMCu",
        "colab_type": "code",
        "colab": {
          "base_uri": "https://localhost:8080/",
          "height": 63
        },
        "outputId": "cfc44478-67de-4607-bc70-ba6c717112b6"
      },
      "source": [
        "! ls"
      ],
      "execution_count": 16,
      "outputs": [
        {
          "output_type": "stream",
          "text": [
            "cnn-cv-iphone-resnet-50.hdf5  data  data.zip  __MACOSX\tsample_data\n"
          ],
          "name": "stdout"
        }
      ]
    },
    {
      "cell_type": "markdown",
      "metadata": {
        "id": "Bb06-bzln03x",
        "colab_type": "text"
      },
      "source": [
        "### 4. Model check"
      ]
    },
    {
      "cell_type": "markdown",
      "metadata": {
        "id": "oD2n078IrNx0",
        "colab_type": "text"
      },
      "source": [
        "#### 4.1 Predictions"
      ]
    },
    {
      "cell_type": "code",
      "metadata": {
        "id": "__PCXx7LrTCH",
        "colab_type": "code",
        "colab": {
          "base_uri": "https://localhost:8080/",
          "height": 34
        },
        "outputId": "2e33ca59-5e80-48fd-f5dc-a295cd472000"
      },
      "source": [
        "test_set.reset()\n",
        "model_pred = model.predict_generator(test_set, \n",
        "                                    steps= test_set.samples / batch_size, \n",
        "                                    verbose=1)"
      ],
      "execution_count": 18,
      "outputs": [
        {
          "output_type": "stream",
          "text": [
            "216/215 [==============================] - 28s 131ms/step\n"
          ],
          "name": "stdout"
        }
      ]
    },
    {
      "cell_type": "markdown",
      "metadata": {
        "id": "wqeZhJhcn4HC",
        "colab_type": "text"
      },
      "source": [
        "#### 4.2 Precision, Recall, AUC"
      ]
    },
    {
      "cell_type": "code",
      "metadata": {
        "id": "f6hZOBiMq4PJ",
        "colab_type": "code",
        "colab": {
          "base_uri": "https://localhost:8080/",
          "height": 34
        },
        "outputId": "a72b3db8-ea0a-48a8-ab36-25f7e7b21ff3"
      },
      "source": [
        "avg_precision = average_precision_score(test_set.classes, [i[0] for i in model_pred])\n",
        "print('Average precision-recall score',avg_precision)"
      ],
      "execution_count": 22,
      "outputs": [
        {
          "output_type": "stream",
          "text": [
            "Average precision-recall score: 0.26380011621150495\n"
          ],
          "name": "stdout"
        }
      ]
    },
    {
      "cell_type": "code",
      "metadata": {
        "id": "A5Oe3sNbsLxo",
        "colab_type": "code",
        "colab": {
          "base_uri": "https://localhost:8080/",
          "height": 312
        },
        "outputId": "442ccef1-f4cb-4c57-a583-fbf83304733e"
      },
      "source": [
        "precision, recall, _ = precision_recall_curve(test_set.classes, [i[0] for i in model_pred])\n",
        "plt.fill_between(recall, precision, alpha=0.2, color='r')\n",
        "plt.xlabel('Recall')\n",
        "plt.ylabel('Precision')\n",
        "plt.ylim([0.0, 1.0])\n",
        "plt.xlim([0.0, 1.0])\n",
        "plt.title('2-class Precision-Recall curve')"
      ],
      "execution_count": 28,
      "outputs": [
        {
          "output_type": "execute_result",
          "data": {
            "text/plain": [
              "Text(0.5, 1.0, '2-class Precision-Recall curve')"
            ]
          },
          "metadata": {
            "tags": []
          },
          "execution_count": 28
        },
        {
          "output_type": "display_data",
          "data": {
            "image/png": "[encoded data removed]",
            "text/plain": [
              "<Figure size 432x288 with 1 Axes>"
            ]
          },
          "metadata": {
            "tags": []
          }
        }
      ]
    },
    {
      "cell_type": "markdown",
      "metadata": {
        "id": "3kxKq7mVs0zT",
        "colab_type": "text"
      },
      "source": [
        "### 5. Conclusion\n",
        "We can see that from-scratch implementation of ResNet-50 showed poor performance and gained low values of important metrics.\n",
        "Thus, I would like to take one more approach with pre-trained ResNet-50 CNN from Keras library."
      ]
    },
    {
      "cell_type": "markdown",
      "metadata": {
        "id": "IWYGprmPtNPT",
        "colab_type": "text"
      },
      "source": [
        "### 6. Keras ResNet CNN"
      ]
    },
    {
      "cell_type": "code",
      "metadata": {
        "id": "uayHhll6tL_y",
        "colab_type": "code",
        "colab": {}
      },
      "source": [
        "# Import ResNet50 CNN \n",
        "from keras.applications import ResNet50 as RN50"
      ],
      "execution_count": 0,
      "outputs": []
    },
    {
      "cell_type": "code",
      "metadata": {
        "id": "3JTdlpA1tdLU",
        "colab_type": "code",
        "colab": {}
      },
      "source": [
        "# Specify parameters for CNN\n",
        "img_size = 224\n",
        "batch_size = 32"
      ],
      "execution_count": 0,
      "outputs": []
    },
    {
      "cell_type": "code",
      "metadata": {
        "id": "4mtJ-f-PtnR6",
        "colab_type": "code",
        "colab": {
          "base_uri": "https://localhost:8080/",
          "height": 51
        },
        "outputId": "488d0f21-a9a5-4413-d663-d4bf2da803f0"
      },
      "source": [
        "# Generating Flows from directories for the new ResNet\n",
        "train_set = train_datagen.flow_from_directory(train_path,\n",
        "                                                 target_size = (img_size, img_size),\n",
        "                                                 batch_size = batch_size,\n",
        "                                                 class_mode = 'binary')\n",
        "\n",
        "test_set = test_datagen.flow_from_directory(test_path,\n",
        "                                            target_size = (img_size, img_size),\n",
        "                                            batch_size = batch_size,\n",
        "                                            class_mode = 'binary',\n",
        "                                            shuffle=False)"
      ],
      "execution_count": 45,
      "outputs": [
        {
          "output_type": "stream",
          "text": [
            "Found 24457 images belonging to 2 classes.\n",
            "Found 6884 images belonging to 2 classes.\n"
          ],
          "name": "stdout"
        }
      ]
    },
    {
      "cell_type": "code",
      "metadata": {
        "id": "dcxP65_nt3GQ",
        "colab_type": "code",
        "colab": {
          "base_uri": "https://localhost:8080/",
          "height": 131
        },
        "outputId": "2a131859-3814-4a2e-c8a7-cb37b9290e07"
      },
      "source": [
        "# Use ResNet50 with pretrained weights from ImageNet dataset\n",
        "model_RN50 = RN50(weights='imagenet', include_top = False, input_shape = (img_size,img_size,3))"
      ],
      "execution_count": 48,
      "outputs": [
        {
          "output_type": "stream",
          "text": [
            "/usr/local/lib/python3.6/dist-packages/keras_applications/resnet50.py:265: UserWarning: The output shape of `ResNet50(include_top=False)` has been changed since Keras 2.2.0.\n",
            "  warnings.warn('The output shape of `ResNet50(include_top=False)` '\n"
          ],
          "name": "stderr"
        }
      ]
    },
    {
      "cell_type": "code",
      "metadata": {
        "id": "p8R_XTbEvK-g",
        "colab_type": "code",
        "colab": {}
      },
      "source": [
        "# Tweaking up the preloaded model a little bit\n",
        "model_new = models.Sequential()\n",
        "model_new.add(model_RN50)\n",
        "model_new.add(layers.GlobalAveragePooling2D())\n",
        "\n",
        "model_new.add(layers.Dense(256,activation='relu'))\n",
        "model_new.add(layers.Dense(256,activation='relu'))\n",
        "model_new.add(layers.Dense(1,activation='sigmoid'))\n",
        "\n",
        "for layer in model_new.layers[:1]:\n",
        "    layer.trainable = False\n",
        "\n",
        "model_new.compile(optimizer='adam', loss='binary_crossentropy', metrics=['accuracy'])\n"
      ],
      "execution_count": 0,
      "outputs": []
    },
    {
      "cell_type": "code",
      "metadata": {
        "id": "cpMEDY5Ft_LF",
        "colab_type": "code",
        "colab": {}
      },
      "source": [
        "# Define checkpoints for CNN autosaving\n",
        "filepath= \"cnn-cv-iphone-resnet-50-pretrained.hdf5\"\n",
        "checkpoint = ModelCheckpoint(filepath, monitor='acc', verbose=1, save_best_only=True, mode='max', save_weights_only=False)"
      ],
      "execution_count": 0,
      "outputs": []
    },
    {
      "cell_type": "code",
      "metadata": {
        "id": "ajUjQGqDuoTi",
        "colab_type": "code",
        "colab": {
          "base_uri": "https://localhost:8080/",
          "height": 1394
        },
        "outputId": "c4a4b23c-79ca-40ca-d145-0e86d0120578"
      },
      "source": [
        "# Training the model\n",
        "model_new.fit_generator(train_set,\n",
        "                         steps_per_epoch = train_set.samples / batch_size,\n",
        "                         epochs = epochs_nb,\n",
        "                         validation_data = test_set,\n",
        "                         validation_steps = test_set.samples / batch_size,\n",
        "                         verbose = 1,\n",
        "                         callbacks=[checkpoint])"
      ],
      "execution_count": 52,
      "outputs": [
        {
          "output_type": "stream",
          "text": [
            "Epoch 1/20\n",
            "765/764 [==============================] - 365s 477ms/step - loss: 0.2179 - acc: 0.9143 - val_loss: 0.9495 - val_acc: 0.6737\n",
            "\n",
            "Epoch 00001: acc improved from -inf to 0.91434, saving model to cnn-cv-iphone-resnet-50-pretrained.hdf5\n",
            "Epoch 2/20\n",
            "765/764 [==============================] - 352s 460ms/step - loss: 0.1549 - acc: 0.9411 - val_loss: 0.9598 - val_acc: 0.6549\n",
            "\n",
            "Epoch 00002: acc improved from 0.91434 to 0.94108, saving model to cnn-cv-iphone-resnet-50-pretrained.hdf5\n",
            "Epoch 3/20\n",
            "765/764 [==============================] - 351s 459ms/step - loss: 0.1371 - acc: 0.9492 - val_loss: 1.0934 - val_acc: 0.6053\n",
            "\n",
            "Epoch 00003: acc improved from 0.94108 to 0.94922, saving model to cnn-cv-iphone-resnet-50-pretrained.hdf5\n",
            "Epoch 4/20\n",
            "765/764 [==============================] - 352s 461ms/step - loss: 0.1328 - acc: 0.9518 - val_loss: 0.9370 - val_acc: 0.6880\n",
            "\n",
            "Epoch 00004: acc improved from 0.94922 to 0.95175, saving model to cnn-cv-iphone-resnet-50-pretrained.hdf5\n",
            "Epoch 5/20\n",
            "765/764 [==============================] - 352s 461ms/step - loss: 0.1243 - acc: 0.9548 - val_loss: 0.9352 - val_acc: 0.6737\n",
            "\n",
            "Epoch 00005: acc improved from 0.95175 to 0.95486, saving model to cnn-cv-iphone-resnet-50-pretrained.hdf5\n",
            "Epoch 6/20\n",
            "765/764 [==============================] - 352s 460ms/step - loss: 0.1151 - acc: 0.9590 - val_loss: 0.9080 - val_acc: 0.6902\n",
            "\n",
            "Epoch 00006: acc improved from 0.95486 to 0.95899, saving model to cnn-cv-iphone-resnet-50-pretrained.hdf5\n",
            "Epoch 7/20\n",
            "765/764 [==============================] - 352s 460ms/step - loss: 0.1131 - acc: 0.9588 - val_loss: 0.8982 - val_acc: 0.6756\n",
            "\n",
            "Epoch 00007: acc did not improve from 0.95899\n",
            "Epoch 8/20\n",
            "765/764 [==============================] - 352s 461ms/step - loss: 0.1092 - acc: 0.9596 - val_loss: 0.9210 - val_acc: 0.6884\n",
            "\n",
            "Epoch 00008: acc improved from 0.95899 to 0.96001, saving model to cnn-cv-iphone-resnet-50-pretrained.hdf5\n",
            "Epoch 9/20\n",
            "765/764 [==============================] - 352s 460ms/step - loss: 0.1081 - acc: 0.9612 - val_loss: 0.9733 - val_acc: 0.6954\n",
            "\n",
            "Epoch 00009: acc improved from 0.96001 to 0.96120, saving model to cnn-cv-iphone-resnet-50-pretrained.hdf5\n",
            "Epoch 10/20\n",
            "765/764 [==============================] - 351s 459ms/step - loss: 0.1046 - acc: 0.9614 - val_loss: 0.9315 - val_acc: 0.6941\n",
            "\n",
            "Epoch 00010: acc improved from 0.96120 to 0.96132, saving model to cnn-cv-iphone-resnet-50-pretrained.hdf5\n",
            "Epoch 11/20\n",
            "765/764 [==============================] - 351s 459ms/step - loss: 0.1022 - acc: 0.9616 - val_loss: 0.8705 - val_acc: 0.7101\n",
            "\n",
            "Epoch 00011: acc improved from 0.96132 to 0.96152, saving model to cnn-cv-iphone-resnet-50-pretrained.hdf5\n",
            "Epoch 12/20\n",
            "765/764 [==============================] - 353s 462ms/step - loss: 0.1011 - acc: 0.9630 - val_loss: 0.9520 - val_acc: 0.7061\n",
            "\n",
            "Epoch 00012: acc improved from 0.96152 to 0.96296, saving model to cnn-cv-iphone-resnet-50-pretrained.hdf5\n",
            "Epoch 13/20\n",
            "765/764 [==============================] - 353s 462ms/step - loss: 0.0984 - acc: 0.9647 - val_loss: 0.9786 - val_acc: 0.7034\n",
            "\n",
            "Epoch 00013: acc improved from 0.96296 to 0.96480, saving model to cnn-cv-iphone-resnet-50-pretrained.hdf5\n",
            "Epoch 14/20\n",
            "765/764 [==============================] - 350s 458ms/step - loss: 0.0914 - acc: 0.9666 - val_loss: 0.9192 - val_acc: 0.7000\n",
            "\n",
            "Epoch 00014: acc improved from 0.96480 to 0.96655, saving model to cnn-cv-iphone-resnet-50-pretrained.hdf5\n",
            "Epoch 15/20\n",
            "765/764 [==============================] - 351s 458ms/step - loss: 0.0885 - acc: 0.9686 - val_loss: 1.0647 - val_acc: 0.6791\n",
            "\n",
            "Epoch 00015: acc improved from 0.96655 to 0.96856, saving model to cnn-cv-iphone-resnet-50-pretrained.hdf5\n",
            "Epoch 16/20\n",
            "765/764 [==============================] - 353s 461ms/step - loss: 0.0929 - acc: 0.9657 - val_loss: 0.8945 - val_acc: 0.7074\n",
            "\n",
            "Epoch 00016: acc did not improve from 0.96856\n",
            "Epoch 17/20\n",
            "765/764 [==============================] - 352s 460ms/step - loss: 0.0935 - acc: 0.9665 - val_loss: 0.8774 - val_acc: 0.7130\n",
            "\n",
            "Epoch 00017: acc did not improve from 0.96856\n",
            "Epoch 18/20\n",
            "765/764 [==============================] - 352s 461ms/step - loss: 0.0899 - acc: 0.9678 - val_loss: 0.8978 - val_acc: 0.7025\n",
            "\n",
            "Epoch 00018: acc did not improve from 0.96856\n",
            "Epoch 19/20\n",
            "765/764 [==============================] - 351s 459ms/step - loss: 0.0862 - acc: 0.9681 - val_loss: 0.8408 - val_acc: 0.7286\n",
            "\n",
            "Epoch 00019: acc did not improve from 0.96856\n",
            "Epoch 20/20\n",
            "765/764 [==============================] - 353s 461ms/step - loss: 0.0834 - acc: 0.9693 - val_loss: 0.9162 - val_acc: 0.7371\n",
            "\n",
            "Epoch 00020: acc improved from 0.96856 to 0.96933, saving model to cnn-cv-iphone-resnet-50-pretrained.hdf5\n"
          ],
          "name": "stdout"
        },
        {
          "output_type": "execute_result",
          "data": {
            "text/plain": [
              "<keras.callbacks.History at 0x7f4c876db470>"
            ]
          },
          "metadata": {
            "tags": []
          },
          "execution_count": 52
        }
      ]
    },
    {
      "cell_type": "code",
      "metadata": {
        "id": "KpeDFym8Ts0H",
        "colab_type": "code",
        "colab": {
          "base_uri": "https://localhost:8080/",
          "height": 34
        },
        "outputId": "e41a2590-cc3b-457d-ee88-2c735768efd2"
      },
      "source": [
        "# Predict\n",
        "test_set.reset()\n",
        "\n",
        "model_new_pred = model_new.predict_generator(test_set, \n",
        "                                    steps= test_set.samples / batch_size, \n",
        "                                    verbose=1)"
      ],
      "execution_count": 58,
      "outputs": [
        {
          "output_type": "stream",
          "text": [
            "216/215 [==============================] - 32s 148ms/step\n"
          ],
          "name": "stdout"
        }
      ]
    },
    {
      "cell_type": "code",
      "metadata": {
        "id": "ookDHeL-RsZN",
        "colab_type": "code",
        "colab": {
          "base_uri": "https://localhost:8080/",
          "height": 34
        },
        "outputId": "c80f78a6-1706-4c8e-c3ab-6150cf20f8b3"
      },
      "source": [
        "# Check the Model's metrics\n",
        "avg_precision = average_precision_score(test_set.classes, [i[0] for i in model_new_pred])\n",
        "print('Average precision-recall score',avg_precision)"
      ],
      "execution_count": 64,
      "outputs": [
        {
          "output_type": "stream",
          "text": [
            "Average precision-recall score 0.45536740225106964\n"
          ],
          "name": "stdout"
        }
      ]
    },
    {
      "cell_type": "code",
      "metadata": {
        "id": "FMtxpdZnT9gI",
        "colab_type": "code",
        "colab": {
          "base_uri": "https://localhost:8080/",
          "height": 312
        },
        "outputId": "9edcb118-ca23-48b3-c99c-7ab78957465e"
      },
      "source": [
        "precision, recall, _ = precision_recall_curve(test_set.classes, [i[0] for i in model_new_pred])\n",
        "plt.fill_between(recall, precision, alpha=0.2, color='r')\n",
        "plt.xlabel('Recall')\n",
        "plt.ylabel('Precision')\n",
        "plt.ylim([0.0, 1.0])\n",
        "plt.xlim([0.0, 1.0])\n",
        "plt.title('2-class Precision-Recall curve')"
      ],
      "execution_count": 65,
      "outputs": [
        {
          "output_type": "execute_result",
          "data": {
            "text/plain": [
              "Text(0.5, 1.0, '2-class Precision-Recall curve')"
            ]
          },
          "metadata": {
            "tags": []
          },
          "execution_count": 65
        },
        {
          "output_type": "display_data",
          "data": {
            "image/png": "[encoded data removed]",
            "text/plain": [
              "<Figure size 432x288 with 1 Axes>"
            ]
          },
          "metadata": {
            "tags": []
          }
        }
      ]
    },
    {
      "cell_type": "markdown",
      "metadata": {
        "id": "IJG-6Ad5UdVb",
        "colab_type": "text"
      },
      "source": [
        "### 7. Conclusion №2\n",
        "We can see that pretrained ResNet-50 showed better performance and gained higher values of important metrics, however the model itself is still not that great."
      ]
    },
    {
      "cell_type": "markdown",
      "metadata": {
        "id": "iB3VYOAFWnzC",
        "colab_type": "text"
      },
      "source": [
        "### 8. Compressing and publishing\n",
        "In order to meet stupid GitHub restriction of max file size 100Mb, I would like to use TFLite to compress the model."
      ]
    },
    {
      "cell_type": "code",
      "metadata": {
        "id": "LSwtLkdvW0g-",
        "colab_type": "code",
        "colab": {
          "base_uri": "https://localhost:8080/",
          "height": 287
        },
        "outputId": "8139ad1c-8f7d-48e3-b4cf-c2eef8562f6a"
      },
      "source": [
        "# Converting Keras model to TensorFlow Lite one\n",
        "converter = lite.TFLiteConverter.from_keras_model_file('cnn-cv-iphone-resnet-50-pretrained.hdf5')\n",
        "tflite_model = converter.convert()\n",
        "open(\"cnn-cv-iphone-resnet-50-pretrained.tflite\", \"wb\").write(tflite_model)"
      ],
      "execution_count": 70,
      "outputs": [
        {
          "output_type": "stream",
          "text": [
            "WARNING:tensorflow:From /usr/local/lib/python3.6/dist-packages/tensorflow/python/ops/init_ops.py:96: calling VarianceScaling.__init__ (from tensorflow.python.ops.init_ops) with distribution=normal is deprecated and will be removed in a future version.\n",
            "Instructions for updating:\n",
            "`normal` is a deprecated alias for `truncated_normal`\n",
            "WARNING:tensorflow:Error in loading the saved optimizer state. As a result, your model is starting with a freshly initialized optimizer.\n",
            "WARNING:tensorflow:From /usr/local/lib/python3.6/dist-packages/tensorflow/lite/python/lite.py:591: convert_variables_to_constants (from tensorflow.python.framework.graph_util_impl) is deprecated and will be removed in a future version.\n",
            "Instructions for updating:\n",
            "Use tf.compat.v1.graph_util.convert_variables_to_constants\n",
            "WARNING:tensorflow:From /usr/local/lib/python3.6/dist-packages/tensorflow/python/framework/graph_util_impl.py:245: extract_sub_graph (from tensorflow.python.framework.graph_util_impl) is deprecated and will be removed in a future version.\n",
            "Instructions for updating:\n",
            "Use tf.compat.v1.graph_util.extract_sub_graph\n",
            "INFO:tensorflow:Froze 324 variables.\n",
            "INFO:tensorflow:Converted 324 variables to const ops.\n"
          ],
          "name": "stdout"
        },
        {
          "output_type": "execute_result",
          "data": {
            "text/plain": [
              "96312484"
            ]
          },
          "metadata": {
            "tags": []
          },
          "execution_count": 70
        }
      ]
    },
    {
      "cell_type": "code",
      "metadata": {
        "id": "nBDj-FeCXxNg",
        "colab_type": "code",
        "colab": {}
      },
      "source": [
        "# Generate the requirements file with all of the dependencies\n",
        "pip freeze > requirements.txt"
      ],
      "execution_count": 0,
      "outputs": []
    }
  ]
}