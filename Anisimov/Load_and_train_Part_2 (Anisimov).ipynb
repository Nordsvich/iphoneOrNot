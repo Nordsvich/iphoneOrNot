{
 "cells": [
  {
   "cell_type": "markdown",
   "metadata": {},
   "source": [
    "## Anton Anisimov Part2-Model traning and validation"
   ]
  },
  {
   "cell_type": "markdown",
   "metadata": {},
   "source": [
    "Quick plan:<br>\n",
    "    <p>1)load the data </p> <br>\n",
    "    2)reconstract resnet<br>\n",
    "    3)train the model on my own dataset<br><br>\n",
    "    4)test on Alex's data set(cleaned by me)<br>\n",
    "    5)if final res is good:<br>\n",
    "           finish<br>\n",
    "       else:<br>\n",
    "           train combine data sets<br>\n",
    "           hold part to valid<br>\n",
    "           back to step tain and validate<br>\n",
    "     6)if final res is good:<br>\n",
    "           finish<br>\n",
    "       else:<br>\n",
    "         crying<br>\n",
    "         give up<br>\n",
    "           \n",
    "     "
   ]
  },
  {
   "cell_type": "code",
   "execution_count": 4,
   "metadata": {},
   "outputs": [],
   "source": [
    "import torch\n",
    "import glob\n",
    "import time\n",
    "import os\n",
    "import copy\n",
    "import torch.nn as nn\n",
    "import torch.optim as optim\n",
    "import torchvision\n",
    "from torchvision import datasets, models, transforms\n",
    "from torchvision.datasets import ImageFolder\n",
    "from torch.optim import lr_scheduler\n",
    "import matplotlib.pyplot as plt\n",
    "import numpy as np\n",
    "from sklearn import metrics"
   ]
  },
  {
   "cell_type": "markdown",
   "metadata": {},
   "source": [
    "## DATA LOADING"
   ]
  },
  {
   "cell_type": "code",
   "execution_count": 15,
   "metadata": {},
   "outputs": [],
   "source": [
    "path='data\\\\'"
   ]
  },
  {
   "cell_type": "code",
   "execution_count": 11,
   "metadata": {},
   "outputs": [],
   "source": [
    "# get images links\n",
    "APhones=glob.glob(os.path.join(path,'APhones/','*.jpg'))\n",
    "Iphone=glob.glob(os.path.join(path,'Iphones/','*.jpg'))"
   ]
  },
  {
   "cell_type": "code",
   "execution_count": 12,
   "metadata": {},
   "outputs": [
    {
     "name": "stdout",
     "output_type": "stream",
     "text": [
      "APhones: 28156 Iphone: 33791\n"
     ]
    }
   ],
   "source": [
    "print ('APhones:',len(APhones),'Iphone:',len(Iphone))"
   ]
  },
  {
   "cell_type": "code",
   "execution_count": 102,
   "metadata": {},
   "outputs": [
    {
     "name": "stdout",
     "output_type": "stream",
     "text": [
      "APhones: 8960 Iphone: 8960\n"
     ]
    }
   ],
   "source": [
    "#balance classes\n",
    "shuffle_ap=np.random.permutation(len(APhones))\n",
    "shuffle_ap=shuffle_ap[0:len(Iphone)]\n",
    "f=np.array(APhones)[shuffle_ap]\n",
    "files=np.append(f,Iphone)\n",
    "shuffle=np.random.permutation(len(files))\n",
    "print ('APhones:',len(f),'Iphone:',len(Iphone))"
   ]
  },
  {
   "cell_type": "code",
   "execution_count": 22,
   "metadata": {},
   "outputs": [],
   "source": [
    "# Prepocessing folders\n",
    "os.mkdir(os.path.join(path,'val'))\n",
    "os.mkdir(os.path.join(path,'train'))\n",
    "os.mkdir(os.path.join(path,'test'))\n",
    "for t in ['train/','val/']:\n",
    "    for folder in ['APhones','Iphones']:\n",
    "        os.mkdir(os.path.join(path,t,folder))"
   ]
  },
  {
   "cell_type": "code",
   "execution_count": 24,
   "metadata": {},
   "outputs": [],
   "source": [
    "# Split1-Move from main to valid\n",
    "for i in shuffle[:2000]:\n",
    "    folder=files[i].split('\\\\')[1]\n",
    "    image=files[i].split('\\\\')[-1]\n",
    "    os.rename(files[i],os.path.join(path,'val',folder,image))"
   ]
  },
  {
   "cell_type": "code",
   "execution_count": 107,
   "metadata": {},
   "outputs": [],
   "source": [
    "# Split2-Move from main to train\n",
    "for i in shuffle[2000:]:\n",
    "    folder=files[i].split('\\\\')[1]\n",
    "    image=files[i].split('\\\\')[-1]\n",
    "    os.rename(files[i],os.path.join(path,'train',folder,image))"
   ]
  },
  {
   "cell_type": "code",
   "execution_count": 6,
   "metadata": {},
   "outputs": [],
   "source": [
    "# making image folders\n",
    "data_transforms = {\n",
    "    'train': transforms.Compose([\n",
    "        transforms.Resize((512,512)),\n",
    "        transforms.RandomRotation(15),\n",
    "        transforms.Pad(1),\n",
    "        transforms.CenterCrop(430),\n",
    "        transforms.Resize((224,224)),\n",
    "        transforms.ToTensor(),\n",
    "        transforms.Normalize([0.485, 0.456, 0.406], [0.229, 0.224, 0.225])]),\n",
    "    'val': transforms.Compose([\n",
    "        transforms.Resize((512,512)),\n",
    "        transforms.RandomRotation(15),\n",
    "        transforms.Pad(1),\n",
    "        transforms.CenterCrop(430),\n",
    "        transforms.Resize((224,224)),\n",
    "        transforms.ToTensor(),\n",
    "        transforms.Normalize([0.485, 0.456, 0.406], [0.229, 0.224, 0.225])]),\n",
    "    }"
   ]
  },
  {
   "cell_type": "code",
   "execution_count": 4,
   "metadata": {},
   "outputs": [
    {
     "ename": "NameError",
     "evalue": "name 'data_transforms' is not defined",
     "output_type": "error",
     "traceback": [
      "\u001b[0;31m---------------------------------------------------------------------------\u001b[0m",
      "\u001b[0;31mNameError\u001b[0m                                 Traceback (most recent call last)",
      "\u001b[0;32m<ipython-input-4-dcd30f52a229>\u001b[0m in \u001b[0;36m<module>\u001b[0;34m\u001b[0m\n\u001b[1;32m      1\u001b[0m image_datasets = {x: datasets.ImageFolder(os.path.join(path, x),\n\u001b[1;32m      2\u001b[0m                                           data_transforms[x])\n\u001b[0;32m----> 3\u001b[0;31m                   for x in ['train', 'val']}\n\u001b[0m\u001b[1;32m      4\u001b[0m dataloaders = {x: torch.utils.data.DataLoader(image_datasets[x], batch_size=64,\n\u001b[1;32m      5\u001b[0m                                              shuffle=True, num_workers=6)\n",
      "\u001b[0;32m<ipython-input-4-dcd30f52a229>\u001b[0m in \u001b[0;36m<dictcomp>\u001b[0;34m(.0)\u001b[0m\n\u001b[1;32m      1\u001b[0m image_datasets = {x: datasets.ImageFolder(os.path.join(path, x),\n\u001b[1;32m      2\u001b[0m                                           data_transforms[x])\n\u001b[0;32m----> 3\u001b[0;31m                   for x in ['train', 'val']}\n\u001b[0m\u001b[1;32m      4\u001b[0m dataloaders = {x: torch.utils.data.DataLoader(image_datasets[x], batch_size=64,\n\u001b[1;32m      5\u001b[0m                                              shuffle=True, num_workers=6)\n",
      "\u001b[0;31mNameError\u001b[0m: name 'data_transforms' is not defined"
     ]
    }
   ],
   "source": [
    "image_datasets = {x: datasets.ImageFolder(os.path.join(path, x),\n",
    "                                          data_transforms[x])\n",
    "                  for x in ['train', 'val']}\n",
    "dataloaders = {x: torch.utils.data.DataLoader(image_datasets[x], batch_size=64,\n",
    "                                             shuffle=True, num_workers=6)\n",
    "              for x in ['train', 'val']}\n",
    "dataset_sizes = {x: len(image_datasets[x]) for x in ['train', 'val']}\n",
    "class_names = image_datasets['train'].classes"
   ]
  },
  {
   "cell_type": "code",
   "execution_count": 6,
   "metadata": {},
   "outputs": [
    {
     "data": {
      "text/plain": [
       "['APhones', 'Iphone']"
      ]
     },
     "execution_count": 6,
     "metadata": {},
     "output_type": "execute_result"
    }
   ],
   "source": [
    "class_names"
   ]
  },
  {
   "cell_type": "code",
   "execution_count": 7,
   "metadata": {
    "scrolled": true
   },
   "outputs": [
    {
     "data": {
      "image/png": "[encoded data removed]",
      "text/plain": [
       "<Figure size 432x288 with 1 Axes>"
      ]
     },
     "metadata": {
      "needs_background": "light"
     },
     "output_type": "display_data"
    }
   ],
   "source": [
    "def imshow(inp, title=None):\n",
    "    \"\"\"Imshow for Tensor.\"\"\"\n",
    "    inp = inp.numpy().transpose((1, 2, 0))\n",
    "    mean = np.array([0.485, 0.456, 0.406])\n",
    "    std = np.array([0.229, 0.224, 0.225])\n",
    "    inp = std * inp + mean\n",
    "    inp = np.clip(inp, 0, 1)\n",
    "    plt.imshow(inp)\n",
    "    if title is not None:\n",
    "        plt.title(title)\n",
    "    plt.pause(0.001)  # pause a bit so that plots are updated\n",
    "\n",
    "\n",
    "# Get a batch of training data\n",
    "inputs, classes = next(iter(dataloaders['train']))\n",
    "\n",
    "# Make a grid from batch\n",
    "out = torchvision.utils.make_grid(inputs)\n",
    "\n",
    "imshow(out, title=[class_names[x] for x in classes])"
   ]
  },
  {
   "cell_type": "markdown",
   "metadata": {},
   "source": [
    "## THE MODEL TRANING"
   ]
  },
  {
   "cell_type": "markdown",
   "metadata": {},
   "source": [
    "To train model I decided to get pre-trained model ResNet18 and use it for transfer learning. I used Anton's(my) data set As traning data set,which was downloaded in part one(Data_collection.ipynb). I choosed Pytorch as main net framework and used cuda archecture(I tried do code flexible for both GPU and CPU,but I used GPU, some parts of code may not work on CPU )."
   ]
  },
  {
   "cell_type": "code",
   "execution_count": 61,
   "metadata": {
    "scrolled": true
   },
   "outputs": [],
   "source": [
    "# get_model\n",
    "model_conv = torchvision.models.resnet18(pretrained=True)\n",
    "for param in model_conv.parameters():param.requires_grad = False"
   ]
  },
  {
   "cell_type": "code",
   "execution_count": 47,
   "metadata": {},
   "outputs": [],
   "source": [
    "# set tranig parametrs\n",
    "device = torch.device(\"cuda\" if torch.cuda.is_available() else \"cpu\")\n",
    "num_ftrs = model_conv.fc.in_features\n",
    "model_conv.fc = nn.Linear(num_ftrs, 2)\n",
    "model_conv = model_conv.to(device)\n",
    "criterion = nn.CrossEntropyLoss()\n",
    "# Observe that only parameters of final layer are being optimized as\n",
    "# opposed to before.\n",
    "optimizer_conv = optim.SGD(model_conv.fc.parameters(), lr=0.001, momentum=0.9)\n",
    "# Decay LR by a factor of 0.1 every 7 epochs\n",
    "exp_lr_scheduler = lr_scheduler.StepLR(optimizer_conv, step_size=7, gamma=0.1)"
   ]
  },
  {
   "cell_type": "code",
   "execution_count": 2,
   "metadata": {},
   "outputs": [],
   "source": [
    "# train function witch return best models 3 metrics acc,auc,f1\n",
    "def train_model(model,criterion, optimizer, scheduler, num_epochs=25):\n",
    "    since = time.time()\n",
    "    best_model_f1 = copy.deepcopy(model.state_dict())\n",
    "    best_acc,best_f1 = 0.0,0.0\n",
    "    for epoch in range(num_epochs):\n",
    "        epoch_f1_collection=[]\n",
    "        epoch_acc_collection=[]\n",
    "        print('Epoch {}/{}'.format(epoch, num_epochs - 1))\n",
    "        print('-' * 10)\n",
    "\n",
    "        # Each epoch has a training and validation phase\n",
    "        for phase in ['train', 'val']:\n",
    "            if phase == 'train':\n",
    "                scheduler.step()\n",
    "                model.train()  # Set model to training mode\n",
    "            else:\n",
    "                model.eval()   # Set model to evaluate mode\n",
    "\n",
    "            running_loss = 0.0\n",
    "            running_corrects = 0\n",
    "\n",
    "            # Iterate over data.\n",
    "            for inputs, labels in dataloaders[phase]:\n",
    "                inputs = inputs.to(device)\n",
    "                labels = labels.to(device)\n",
    "\n",
    "                # zero the parameter gradients\n",
    "                optimizer.zero_grad()\n",
    "\n",
    "                # forward\n",
    "                # track history if only in train\n",
    "                \n",
    "                with torch.set_grad_enabled(phase == 'train'):\n",
    "                    outputs = model(inputs)\n",
    "                    _, preds = torch.max(outputs, 1)\n",
    "                    loss = criterion(outputs, labels)\n",
    "                    y_true=labels.cpu().data.numpy()\n",
    "                    y_pred=preds.cpu().data.numpy()\n",
    "                    epoch_f1=metrics.f1_score(y_true, y_pred , average='binary')\n",
    "                    epoch_f1_collection.append(epoch_f1)\n",
    "                    epoch_acc=metrics.accuracy_score(y_true, y_pred)\n",
    "                    epoch_acc_collection.append(epoch_acc)\n",
    "                    # backward + optimize only if in training phase\n",
    "                    if phase == 'train':\n",
    "                        loss.backward()\n",
    "                        optimizer.step()\n",
    "        \n",
    "                # statistics\n",
    "                running_loss += loss.item() * inputs.size(0)\n",
    "                running_corrects += torch.sum(preds == labels.data)\n",
    "            #             Statistic metrics\n",
    "            epoch_loss = running_loss / dataset_sizes[phase]             \n",
    "            print('{} Loss: {:.4f} Acc: {:.4f}  F1: {:.4f}'.format(\n",
    "                phase, epoch_loss, np.mean(epoch_acc_collection),np.mean(epoch_f1_collection)))\n",
    "            # deep copy the model\n",
    "            if phase == 'val' and np.mean(epoch_acc_collection) > best_acc:\n",
    "                best_acc = np.mean(epoch_acc_collection)\n",
    "            if phase == 'val' and np.mean(epoch_f1_collection) > best_f1:\n",
    "                best_f1 = np.mean(epoch_f1_collection)\n",
    "                best_model_f1 = copy.deepcopy(model.state_dict())\n",
    "\n",
    "        print()\n",
    "\n",
    "    time_elapsed = time.time() - since\n",
    "    print('Training complete in {:.0f}m {:.0f}s'.format(\n",
    "        time_elapsed // 60, time_elapsed % 60))\n",
    "    print('Best val Acc: {:.4f} F1: {:.4f}'.format(best_acc,best_f1))\n",
    "    model.load_state_dict(best_model_f1)\n",
    "    return model"
   ]
  },
  {
   "cell_type": "code",
   "execution_count": 74,
   "metadata": {
    "scrolled": true
   },
   "outputs": [
    {
     "name": "stdout",
     "output_type": "stream",
     "text": [
      "Epoch 0/24\n",
      "----------\n",
      "train Loss: 0.2671 Acc: 0.9015  F1: 0.8999\n",
      "val Loss: 0.1508 Acc: 0.9075  F1: 0.9061\n",
      "\n",
      "Epoch 1/24\n",
      "----------\n",
      "train Loss: 0.1413 Acc: 0.9571  F1: 0.9564\n",
      "val Loss: 0.1225 Acc: 0.9577  F1: 0.9570\n",
      "\n",
      "Epoch 2/24\n",
      "----------\n",
      "train Loss: 0.1211 Acc: 0.9633  F1: 0.9628\n",
      "val Loss: 0.1254 Acc: 0.9622  F1: 0.9618\n",
      "\n",
      "Epoch 3/24\n",
      "----------\n",
      "train Loss: 0.1110 Acc: 0.9648  F1: 0.9645\n",
      "val Loss: 0.1030 Acc: 0.9649  F1: 0.9645\n",
      "\n",
      "Epoch 4/24\n",
      "----------\n",
      "train Loss: 0.1018 Acc: 0.9673  F1: 0.9670\n",
      "val Loss: 0.0971 Acc: 0.9679  F1: 0.9675\n",
      "\n",
      "Epoch 5/24\n",
      "----------\n",
      "train Loss: 0.0981 Acc: 0.9689  F1: 0.9683\n",
      "val Loss: 0.0934 Acc: 0.9691  F1: 0.9686\n",
      "\n",
      "Epoch 6/24\n",
      "----------\n",
      "train Loss: 0.0951 Acc: 0.9706  F1: 0.9701\n",
      "val Loss: 0.0886 Acc: 0.9707  F1: 0.9702\n",
      "\n",
      "Epoch 7/24\n",
      "----------\n",
      "train Loss: 0.0970 Acc: 0.9668  F1: 0.9657\n",
      "val Loss: 0.0878 Acc: 0.9678  F1: 0.9669\n",
      "\n",
      "Epoch 8/24\n",
      "----------\n",
      "train Loss: 0.0932 Acc: 0.9711  F1: 0.9704\n",
      "val Loss: 0.0889 Acc: 0.9714  F1: 0.9707\n",
      "\n",
      "Epoch 9/24\n",
      "----------\n",
      "train Loss: 0.0934 Acc: 0.9712  F1: 0.9705\n",
      "val Loss: 0.0878 Acc: 0.9713  F1: 0.9707\n",
      "\n",
      "Epoch 10/24\n",
      "----------\n",
      "train Loss: 0.0944 Acc: 0.9717  F1: 0.9713\n",
      "val Loss: 0.0880 Acc: 0.9719  F1: 0.9715\n",
      "\n",
      "Epoch 11/24\n",
      "----------\n",
      "train Loss: 0.0930 Acc: 0.9716  F1: 0.9710\n",
      "val Loss: 0.0875 Acc: 0.9717  F1: 0.9712\n",
      "\n",
      "Epoch 12/24\n",
      "----------\n",
      "train Loss: 0.0923 Acc: 0.9704  F1: 0.9701\n",
      "val Loss: 0.0822 Acc: 0.9706  F1: 0.9702\n",
      "\n",
      "Epoch 13/24\n",
      "----------\n",
      "train Loss: 0.0932 Acc: 0.9718  F1: 0.9711\n",
      "val Loss: 0.0842 Acc: 0.9718  F1: 0.9711\n",
      "\n",
      "Epoch 14/24\n",
      "----------\n",
      "train Loss: 0.0966 Acc: 0.9698  F1: 0.9691\n",
      "val Loss: 0.0914 Acc: 0.9698  F1: 0.9693\n",
      "\n",
      "Epoch 15/24\n",
      "----------\n",
      "train Loss: 0.0976 Acc: 0.9674  F1: 0.9663\n",
      "val Loss: 0.0937 Acc: 0.9673  F1: 0.9663\n",
      "\n",
      "Epoch 16/24\n",
      "----------\n",
      "train Loss: 0.0974 Acc: 0.9679  F1: 0.9676\n",
      "val Loss: 0.0875 Acc: 0.9684  F1: 0.9680\n",
      "\n",
      "Epoch 17/24\n",
      "----------\n",
      "train Loss: 0.0935 Acc: 0.9706  F1: 0.9700\n",
      "val Loss: 0.0920 Acc: 0.9704  F1: 0.9699\n",
      "\n",
      "Epoch 18/24\n",
      "----------\n",
      "train Loss: 0.0953 Acc: 0.9697  F1: 0.9690\n",
      "val Loss: 0.0850 Acc: 0.9707  F1: 0.9700\n",
      "\n",
      "Epoch 19/24\n",
      "----------\n",
      "train Loss: 0.0918 Acc: 0.9710  F1: 0.9703\n",
      "val Loss: 0.0883 Acc: 0.9709  F1: 0.9702\n",
      "\n",
      "Epoch 20/24\n",
      "----------\n",
      "train Loss: 0.0895 Acc: 0.9721  F1: 0.9716\n",
      "val Loss: 0.0850 Acc: 0.9718  F1: 0.9713\n",
      "\n",
      "Epoch 21/24\n",
      "----------\n",
      "train Loss: 0.0945 Acc: 0.9693  F1: 0.9684\n",
      "val Loss: 0.0867 Acc: 0.9702  F1: 0.9692\n",
      "\n",
      "Epoch 22/24\n",
      "----------\n",
      "train Loss: 0.0925 Acc: 0.9706  F1: 0.9699\n",
      "val Loss: 0.0797 Acc: 0.9713  F1: 0.9707\n",
      "\n",
      "Epoch 23/24\n",
      "----------\n",
      "train Loss: 0.0914 Acc: 0.9726  F1: 0.9719\n",
      "val Loss: 0.0862 Acc: 0.9727  F1: 0.9720\n",
      "\n",
      "Epoch 24/24\n",
      "----------\n",
      "train Loss: 0.0915 Acc: 0.9708  F1: 0.9699\n",
      "val Loss: 0.0841 Acc: 0.9709  F1: 0.9701\n",
      "\n",
      "Training complete in 21m 14s\n",
      "Best val Acc: 0.9727 F1: 0.9720\n"
     ]
    }
   ],
   "source": [
    "# model1,model2,model3=train_model(model_conv,criterion, optimizer_conv, exp_lr_scheduler, num_epochs=1)\n",
    "model1=train_model(model_conv,criterion, optimizer_conv, exp_lr_scheduler, num_epochs=25)"
   ]
  },
  {
   "cell_type": "code",
   "execution_count": 3,
   "metadata": {
    "collapsed": true
   },
   "outputs": [
    {
     "ename": "NameError",
     "evalue": "name 'model1' is not defined",
     "output_type": "error",
     "traceback": [
      "\u001b[1;31m---------------------------------------------------------------------------\u001b[0m",
      "\u001b[1;31mNameError\u001b[0m                                 Traceback (most recent call last)",
      "\u001b[1;32m<ipython-input-3-b584e41078b0>\u001b[0m in \u001b[0;36m<module>\u001b[1;34m\u001b[0m\n\u001b[1;32m----> 1\u001b[1;33m checkpoint = {'model': model1,\n\u001b[0m\u001b[0;32m      2\u001b[0m           \u001b[1;34m'state_dict'\u001b[0m\u001b[1;33m:\u001b[0m \u001b[0mmodel1\u001b[0m\u001b[1;33m.\u001b[0m\u001b[0mstate_dict\u001b[0m\u001b[1;33m(\u001b[0m\u001b[1;33m)\u001b[0m\u001b[1;33m,\u001b[0m\u001b[1;33m\u001b[0m\u001b[1;33m\u001b[0m\u001b[0m\n\u001b[0;32m      3\u001b[0m           'optimizer' : optimizer_conv.state_dict()}\n\u001b[0;32m      4\u001b[0m \u001b[1;33m\u001b[0m\u001b[0m\n\u001b[0;32m      5\u001b[0m \u001b[0mtorch\u001b[0m\u001b[1;33m.\u001b[0m\u001b[0msave\u001b[0m\u001b[1;33m(\u001b[0m\u001b[0mcheckpoint\u001b[0m\u001b[1;33m,\u001b[0m \u001b[1;34m'model4.pth'\u001b[0m\u001b[1;33m)\u001b[0m\u001b[1;33m\u001b[0m\u001b[1;33m\u001b[0m\u001b[0m\n",
      "\u001b[1;31mNameError\u001b[0m: name 'model1' is not defined"
     ]
    }
   ],
   "source": [
    "checkpoint = {'model': model1,\n",
    "          'state_dict': model1.state_dict(),\n",
    "          'optimizer' : optimizer_conv.state_dict()}\n",
    "\n",
    "torch.save(checkpoint, 'model4.pth')"
   ]
  },
  {
   "cell_type": "markdown",
   "metadata": {},
   "source": [
    "## Test the Model on Alexandr's data set \n"
   ]
  },
  {
   "cell_type": "code",
   "execution_count": 1,
   "metadata": {},
   "outputs": [],
   "source": [
    "def load_checkpoint(filepath):\n",
    "    checkpoint = torch.load(filepath)\n",
    "    model = checkpoint['model']\n",
    "    model.load_state_dict(checkpoint['state_dict'])\n",
    "    for parameter in model.parameters():\n",
    "        parameter.requires_grad = False\n",
    "\n",
    "    model.eval()\n",
    "    return model\n"
   ]
  },
  {
   "cell_type": "code",
   "execution_count": null,
   "metadata": {},
   "outputs": [],
   "source": [
    "model = load_checkpoint('model4.pth')"
   ]
  },
  {
   "cell_type": "code",
   "execution_count": 5,
   "metadata": {},
   "outputs": [],
   "source": [
    "def imshow(inp, title=None):\n",
    "    \"\"\"Imshow for Tensor.\"\"\"\n",
    "    inp = inp.transpose((1, 2, 0))\n",
    "    mean = np.array([0.485, 0.456, 0.406])\n",
    "    std = np.array([0.229, 0.224, 0.225])\n",
    "    inp = std * inp + mean\n",
    "    inp = np.clip(inp, 0, 1)\n",
    "    plt.imshow(inp)\n",
    "#     if title is not None:\n",
    "#         plt.title(title)\n",
    "#     plt.pause(0.001)  # pause a bit so that plots are updated"
   ]
  },
  {
   "cell_type": "code",
   "execution_count": 7,
   "metadata": {
    "collapsed": true
   },
   "outputs": [
    {
     "ename": "FileNotFoundError",
     "evalue": "[Errno 2] No such file or directory: 'Alex_pre_clean/'",
     "output_type": "error",
     "traceback": [
      "\u001b[0;31m---------------------------------------------------------------------------\u001b[0m",
      "\u001b[0;31mFileNotFoundError\u001b[0m                         Traceback (most recent call last)",
      "\u001b[0;32m<ipython-input-7-a53eb147fbc5>\u001b[0m in \u001b[0;36m<module>\u001b[0;34m\u001b[0m\n\u001b[1;32m      6\u001b[0m                                      \u001b[0mtransforms\u001b[0m\u001b[0;34m.\u001b[0m\u001b[0mToTensor\u001b[0m\u001b[0;34m(\u001b[0m\u001b[0;34m)\u001b[0m\u001b[0;34m,\u001b[0m\u001b[0;34m\u001b[0m\u001b[0;34m\u001b[0m\u001b[0m\n\u001b[1;32m      7\u001b[0m                                      transforms.Normalize([0.485, 0.456, 0.406], [0.229, 0.224, 0.225])])\n\u001b[0;32m----> 8\u001b[0;31m \u001b[0mtest\u001b[0m \u001b[0;34m=\u001b[0m \u001b[0mdatasets\u001b[0m\u001b[0;34m.\u001b[0m\u001b[0mImageFolder\u001b[0m\u001b[0;34m(\u001b[0m\u001b[0;34m'Alex_pre_clean/'\u001b[0m\u001b[0;34m,\u001b[0m\u001b[0msimple_transform\u001b[0m\u001b[0;34m)\u001b[0m\u001b[0;34m\u001b[0m\u001b[0;34m\u001b[0m\u001b[0m\n\u001b[0m",
      "\u001b[0;32m~/anaconda3/lib/python3.6/site-packages/torchvision/datasets/folder.py\u001b[0m in \u001b[0;36m__init__\u001b[0;34m(self, root, transform, target_transform, loader, is_valid_file)\u001b[0m\n\u001b[1;32m    207\u001b[0m                                           \u001b[0mtransform\u001b[0m\u001b[0;34m=\u001b[0m\u001b[0mtransform\u001b[0m\u001b[0;34m,\u001b[0m\u001b[0;34m\u001b[0m\u001b[0;34m\u001b[0m\u001b[0m\n\u001b[1;32m    208\u001b[0m                                           \u001b[0mtarget_transform\u001b[0m\u001b[0;34m=\u001b[0m\u001b[0mtarget_transform\u001b[0m\u001b[0;34m,\u001b[0m\u001b[0;34m\u001b[0m\u001b[0;34m\u001b[0m\u001b[0m\n\u001b[0;32m--> 209\u001b[0;31m                                           is_valid_file=is_valid_file)\n\u001b[0m\u001b[1;32m    210\u001b[0m         \u001b[0mself\u001b[0m\u001b[0;34m.\u001b[0m\u001b[0mimgs\u001b[0m \u001b[0;34m=\u001b[0m \u001b[0mself\u001b[0m\u001b[0;34m.\u001b[0m\u001b[0msamples\u001b[0m\u001b[0;34m\u001b[0m\u001b[0;34m\u001b[0m\u001b[0m\n",
      "\u001b[0;32m~/anaconda3/lib/python3.6/site-packages/torchvision/datasets/folder.py\u001b[0m in \u001b[0;36m__init__\u001b[0;34m(self, root, loader, extensions, transform, target_transform, is_valid_file)\u001b[0m\n\u001b[1;32m     91\u001b[0m         \u001b[0mself\u001b[0m\u001b[0;34m.\u001b[0m\u001b[0mtransform\u001b[0m \u001b[0;34m=\u001b[0m \u001b[0mtransform\u001b[0m\u001b[0;34m\u001b[0m\u001b[0;34m\u001b[0m\u001b[0m\n\u001b[1;32m     92\u001b[0m         \u001b[0mself\u001b[0m\u001b[0;34m.\u001b[0m\u001b[0mtarget_transform\u001b[0m \u001b[0;34m=\u001b[0m \u001b[0mtarget_transform\u001b[0m\u001b[0;34m\u001b[0m\u001b[0;34m\u001b[0m\u001b[0m\n\u001b[0;32m---> 93\u001b[0;31m         \u001b[0mclasses\u001b[0m\u001b[0;34m,\u001b[0m \u001b[0mclass_to_idx\u001b[0m \u001b[0;34m=\u001b[0m \u001b[0mself\u001b[0m\u001b[0;34m.\u001b[0m\u001b[0m_find_classes\u001b[0m\u001b[0;34m(\u001b[0m\u001b[0mself\u001b[0m\u001b[0;34m.\u001b[0m\u001b[0mroot\u001b[0m\u001b[0;34m)\u001b[0m\u001b[0;34m\u001b[0m\u001b[0;34m\u001b[0m\u001b[0m\n\u001b[0m\u001b[1;32m     94\u001b[0m         \u001b[0msamples\u001b[0m \u001b[0;34m=\u001b[0m \u001b[0mmake_dataset\u001b[0m\u001b[0;34m(\u001b[0m\u001b[0mself\u001b[0m\u001b[0;34m.\u001b[0m\u001b[0mroot\u001b[0m\u001b[0;34m,\u001b[0m \u001b[0mclass_to_idx\u001b[0m\u001b[0;34m,\u001b[0m \u001b[0mextensions\u001b[0m\u001b[0;34m,\u001b[0m \u001b[0mis_valid_file\u001b[0m\u001b[0;34m)\u001b[0m\u001b[0;34m\u001b[0m\u001b[0;34m\u001b[0m\u001b[0m\n\u001b[1;32m     95\u001b[0m         \u001b[0;32mif\u001b[0m \u001b[0mlen\u001b[0m\u001b[0;34m(\u001b[0m\u001b[0msamples\u001b[0m\u001b[0;34m)\u001b[0m \u001b[0;34m==\u001b[0m \u001b[0;36m0\u001b[0m\u001b[0;34m:\u001b[0m\u001b[0;34m\u001b[0m\u001b[0;34m\u001b[0m\u001b[0m\n",
      "\u001b[0;32m~/anaconda3/lib/python3.6/site-packages/torchvision/datasets/folder.py\u001b[0m in \u001b[0;36m_find_classes\u001b[0;34m(self, dir)\u001b[0m\n\u001b[1;32m    120\u001b[0m         \u001b[0;32mif\u001b[0m \u001b[0msys\u001b[0m\u001b[0;34m.\u001b[0m\u001b[0mversion_info\u001b[0m \u001b[0;34m>=\u001b[0m \u001b[0;34m(\u001b[0m\u001b[0;36m3\u001b[0m\u001b[0;34m,\u001b[0m \u001b[0;36m5\u001b[0m\u001b[0;34m)\u001b[0m\u001b[0;34m:\u001b[0m\u001b[0;34m\u001b[0m\u001b[0;34m\u001b[0m\u001b[0m\n\u001b[1;32m    121\u001b[0m             \u001b[0;31m# Faster and available in Python 3.5 and above\u001b[0m\u001b[0;34m\u001b[0m\u001b[0;34m\u001b[0m\u001b[0;34m\u001b[0m\u001b[0m\n\u001b[0;32m--> 122\u001b[0;31m             \u001b[0mclasses\u001b[0m \u001b[0;34m=\u001b[0m \u001b[0;34m[\u001b[0m\u001b[0md\u001b[0m\u001b[0;34m.\u001b[0m\u001b[0mname\u001b[0m \u001b[0;32mfor\u001b[0m \u001b[0md\u001b[0m \u001b[0;32min\u001b[0m \u001b[0mos\u001b[0m\u001b[0;34m.\u001b[0m\u001b[0mscandir\u001b[0m\u001b[0;34m(\u001b[0m\u001b[0mdir\u001b[0m\u001b[0;34m)\u001b[0m \u001b[0;32mif\u001b[0m \u001b[0md\u001b[0m\u001b[0;34m.\u001b[0m\u001b[0mis_dir\u001b[0m\u001b[0;34m(\u001b[0m\u001b[0;34m)\u001b[0m\u001b[0;34m]\u001b[0m\u001b[0;34m\u001b[0m\u001b[0;34m\u001b[0m\u001b[0m\n\u001b[0m\u001b[1;32m    123\u001b[0m         \u001b[0;32melse\u001b[0m\u001b[0;34m:\u001b[0m\u001b[0;34m\u001b[0m\u001b[0;34m\u001b[0m\u001b[0m\n\u001b[1;32m    124\u001b[0m             \u001b[0mclasses\u001b[0m \u001b[0;34m=\u001b[0m \u001b[0;34m[\u001b[0m\u001b[0md\u001b[0m \u001b[0;32mfor\u001b[0m \u001b[0md\u001b[0m \u001b[0;32min\u001b[0m \u001b[0mos\u001b[0m\u001b[0;34m.\u001b[0m\u001b[0mlistdir\u001b[0m\u001b[0;34m(\u001b[0m\u001b[0mdir\u001b[0m\u001b[0;34m)\u001b[0m \u001b[0;32mif\u001b[0m \u001b[0mos\u001b[0m\u001b[0;34m.\u001b[0m\u001b[0mpath\u001b[0m\u001b[0;34m.\u001b[0m\u001b[0misdir\u001b[0m\u001b[0;34m(\u001b[0m\u001b[0mos\u001b[0m\u001b[0;34m.\u001b[0m\u001b[0mpath\u001b[0m\u001b[0;34m.\u001b[0m\u001b[0mjoin\u001b[0m\u001b[0;34m(\u001b[0m\u001b[0mdir\u001b[0m\u001b[0;34m,\u001b[0m \u001b[0md\u001b[0m\u001b[0;34m)\u001b[0m\u001b[0;34m)\u001b[0m\u001b[0;34m]\u001b[0m\u001b[0;34m\u001b[0m\u001b[0;34m\u001b[0m\u001b[0m\n",
      "\u001b[0;31mFileNotFoundError\u001b[0m: [Errno 2] No such file or directory: 'Alex_pre_clean/'"
     ]
    }
   ],
   "source": [
    "# import test data\n",
    "simple_transform=transforms.Compose([transforms.Resize((512,512)),\n",
    "                                     transforms.Pad(1),\n",
    "                                     transforms.CenterCrop(430),\n",
    "                                     transforms.Resize((224,224)),\n",
    "                                     transforms.ToTensor(),\n",
    "                                     transforms.Normalize([0.485, 0.456, 0.406], [0.229, 0.224, 0.225])])\n",
    "test = datasets.ImageFolder('Alex_pre_clean/',simple_transform)"
   ]
  },
  {
   "cell_type": "code",
   "execution_count": 6,
   "metadata": {
    "collapsed": true
   },
   "outputs": [
    {
     "ename": "NameError",
     "evalue": "name 'test' is not defined",
     "output_type": "error",
     "traceback": [
      "\u001b[0;31m---------------------------------------------------------------------------\u001b[0m",
      "\u001b[0;31mNameError\u001b[0m                                 Traceback (most recent call last)",
      "\u001b[0;32m<ipython-input-6-eed7c1d5c9b3>\u001b[0m in \u001b[0;36m<module>\u001b[0;34m\u001b[0m\n\u001b[0;32m----> 1\u001b[0;31m \u001b[0mtest_data_gen\u001b[0m\u001b[0;34m=\u001b[0m\u001b[0mtorch\u001b[0m\u001b[0;34m.\u001b[0m\u001b[0mutils\u001b[0m\u001b[0;34m.\u001b[0m\u001b[0mdata\u001b[0m\u001b[0;34m.\u001b[0m\u001b[0mDataLoader\u001b[0m\u001b[0;34m(\u001b[0m\u001b[0mtest\u001b[0m\u001b[0;34m,\u001b[0m \u001b[0mbatch_size\u001b[0m\u001b[0;34m=\u001b[0m\u001b[0;36m256\u001b[0m\u001b[0;34m,\u001b[0m\u001b[0mshuffle\u001b[0m\u001b[0;34m=\u001b[0m\u001b[0;32mTrue\u001b[0m\u001b[0;34m,\u001b[0m \u001b[0mnum_workers\u001b[0m\u001b[0;34m=\u001b[0m\u001b[0;36m6\u001b[0m\u001b[0;34m)\u001b[0m\u001b[0;34m\u001b[0m\u001b[0;34m\u001b[0m\u001b[0m\n\u001b[0m",
      "\u001b[0;31mNameError\u001b[0m: name 'test' is not defined"
     ]
    }
   ],
   "source": [
    "test_data_gen=torch.utils.data.DataLoader(test, batch_size=256,shuffle=True, num_workers=6)"
   ]
  },
  {
   "cell_type": "code",
   "execution_count": 16,
   "metadata": {
    "scrolled": true
   },
   "outputs": [],
   "source": [
    "# boostrap_test\n",
    "def boostrap_test(model,loader):\n",
    "    y_true=[]\n",
    "    y_pred=[]\n",
    "    X=[]\n",
    "    f1_test_distribe=[]\n",
    "    for inputs,labels in loader:\n",
    "        x=inputs.to('cuda')\n",
    "        outputs=model(x)\n",
    "        _, preds = torch.max(outputs, 1)\n",
    "        y_true.append(labels.cpu().data.numpy())\n",
    "        y_pred.append(preds.cpu().data.numpy())\n",
    "        X.append(inputs.cpu().data.numpy())\n",
    "        f1_test_distribe.append(metrics.f1_score(\n",
    "            labels.cpu().data.numpy(),\n",
    "            preds.cpu().data.numpy(),average='binary'))\n",
    "    return X,y_true,y_pred,np.array(f1_test_distribe)\n",
    "    "
   ]
  },
  {
   "cell_type": "code",
   "execution_count": null,
   "metadata": {
    "scrolled": true
   },
   "outputs": [],
   "source": [
    "inputs,y_true,y_pred,f1_test_distribe=boostrap_test(model,test_data_gen)"
   ]
  },
  {
   "cell_type": "code",
   "execution_count": 64,
   "metadata": {
    "scrolled": false
   },
   "outputs": [
    {
     "name": "stdout",
     "output_type": "stream",
     "text": [
      "[1 0 1 0 0 0 0 1 1 0 0 1 0 1 0 0 0 0 0 1 0 1 1 0 0 0 1 0 1 1 1 1 1 0 0 0 0\n",
      " 1 1 1 0 1 0 0 1 0 1 0 0 0 0 0 0 0 0 1 0 1 0 0 0 1 1 1 1 1 0 1 1 0 0 1 0 0\n",
      " 1 1 1 0 1 0 0 0 1 1 0 1 0 1 0 1 1 1 0 0 1 1 1 1 1 0 0 0 1 1 0 0 0 0 0 1 0\n",
      " 0 1 0 0 1 1 1 1 1 1 0 0 1 1 0 1 0 1 1 1 1 1 0 1 0 0 0 0 1 1 1 0 0 1 0 0 1\n",
      " 1 0 1 1 1 1 0 0 1 0 0 1 0 1 1 1 1 0 1 0 0 0 0 0 0 1 0 1 0 1 0 1 0 1 0 1 1\n",
      " 1 0 1 0 0 0 0 1 0 0 0 1 1 1 1 0 1 1 1 1 0 0 1 0 0 1 0 0 1 0 0 1 0 1 0 1 1\n",
      " 0 0 0 1 0 0 0 1 1 1 0 0 0 1 0 0 0 0 1 0 1 1 0 0 1 0 0 0 0 1 1 1 0 0]\n",
      "[0 0 0 0 0 0 0 0 0 0 0 0 0 0 1 0 0 0 0 0 0 0 0 0 0 0 0 0 0 0 0 0 0 0 0 0 0\n",
      " 0 0 0 0 0 0 0 0 0 0 0 0 0 0 0 0 0 0 0 0 0 0 0 0 0 0 0 0 0 0 0 0 0 0 0 0 0\n",
      " 0 0 0 0 0 0 0 0 0 0 0 0 0 0 0 0 0 0 0 0 0 0 0 0 0 0 0 0 0 0 0 0 0 0 0 0 0\n",
      " 0 0 0 0 0 0 0 0 0 0 0 0 0 0 0 0 0 0 0 0 0 0 0 0 0 0 0 0 0 0 0 0 0 0 0 0 0\n",
      " 1 0 0 0 0 0 0 0 0 0 0 0 0 0 0 1 0 0 0 0 0 0 0 0 0 0 0 0 0 0 0 0 0 0 0 0 0\n",
      " 0 0 0 0 1 0 0 0 0 0 0 0 0 0 0 0 0 0 1 0 0 0 0 0 0 0 0 0 0 0 0 0 0 0 0 0 0\n",
      " 0 0 0 0 0 0 0 0 0 0 0 0 0 0 0 0 0 0 0 0 0 0 0 0 0 0 0 0 0 0 0 0 0 0]\n"
     ]
    }
   ],
   "source": [
    "print (y_true[10])\n",
    "print (y_pred[10])\n"
   ]
  },
  {
   "cell_type": "code",
   "execution_count": 72,
   "metadata": {},
   "outputs": [
    {
     "data": {
      "text/plain": [
       "(256,)"
      ]
     },
     "execution_count": 72,
     "metadata": {},
     "output_type": "execute_result"
    }
   ],
   "source": [
    "print (y_true[10].shape)\n",
    "print (inputs.shape)"
   ]
  },
  {
   "cell_type": "code",
   "execution_count": 71,
   "metadata": {},
   "outputs": [
    {
     "data": {
      "text/plain": [
       "(253, 3, 224, 224)"
      ]
     },
     "execution_count": 71,
     "metadata": {},
     "output_type": "execute_result"
    }
   ],
   "source": [
    "inputs[y_pred[10]!=y_true[10]]"
   ]
  },
  {
   "cell_type": "code",
   "execution_count": 65,
   "metadata": {},
   "outputs": [
    {
     "data": {
      "text/plain": [
       "(array([ 4., 13., 29., 34., 39., 41., 24., 13.,  6.,  4.]),\n",
       " array([0.        , 0.01441441, 0.02882883, 0.04324324, 0.05765766,\n",
       "        0.07207207, 0.08648649, 0.1009009 , 0.11531532, 0.12972973,\n",
       "        0.14414414]),\n",
       " <a list of 10 Patch objects>)"
      ]
     },
     "execution_count": 65,
     "metadata": {},
     "output_type": "execute_result"
    },
    {
     "data": {
      "image/png": "[encoded data removed]",
      "text/plain": [
       "<Figure size 432x288 with 1 Axes>"
      ]
     },
     "metadata": {
      "needs_background": "light"
     },
     "output_type": "display_data"
    }
   ],
   "source": [
    "from matplotlib.pyplot import hist\n",
    "hist(f1_test_distribe)"
   ]
  },
  {
   "cell_type": "code",
   "execution_count": 18,
   "metadata": {},
   "outputs": [
    {
     "name": "stdout",
     "output_type": "stream",
     "text": [
      "real_mean: 0.06536765463236797\n"
     ]
    }
   ],
   "source": [
    "print ('real_mean:',np.mean(f1_test_distribe))\n"
   ]
  },
  {
   "cell_type": "markdown",
   "metadata": {},
   "source": [
    "So,the model has low f1 score on Alex's set ,but it is not time to cry. Now first model woks bad on several models of iphones,so lets make final merge data set, shuffle it and hold train,valid,and final test folders  "
   ]
  },
  {
   "cell_type": "markdown",
   "metadata": {},
   "source": [
    "## Merge and Train"
   ]
  },
  {
   "cell_type": "code",
   "execution_count": 19,
   "metadata": {},
   "outputs": [],
   "source": [
    "path='Final_set\\\\'"
   ]
  },
  {
   "cell_type": "code",
   "execution_count": 20,
   "metadata": {},
   "outputs": [
    {
     "data": {
      "text/plain": [
       "0"
      ]
     },
     "execution_count": 20,
     "metadata": {},
     "output_type": "execute_result"
    }
   ],
   "source": [
    "path='Final_set\\\\'\n",
    "files=glob.glob(os.path.join(path,'*/*.jpg'))\n",
    "shuffle=np.random.permutation(len(files))\n",
    "len(files)"
   ]
  },
  {
   "cell_type": "code",
   "execution_count": 50,
   "metadata": {},
   "outputs": [],
   "source": [
    "# Prepocessing folders\n",
    "os.mkdir(os.path.join(path,'val'))\n",
    "os.mkdir(os.path.join(path,'train'))\n",
    "os.mkdir(os.path.join(path,'test'))\n",
    "for t in ['train/','val/']:\n",
    "    for folder in ['APhones','Iphones']:\n",
    "        os.mkdir(os.path.join(path,t,folder))"
   ]
  },
  {
   "cell_type": "code",
   "execution_count": 35,
   "metadata": {
    "scrolled": true
   },
   "outputs": [],
   "source": [
    "# Split2-Move from main to train\n",
    "for i in shuffle[:2000]:\n",
    "    folder=files[i].split('\\\\')[1]\n",
    "    image=files[i].split('\\\\')[-1]\n",
    "    os.rename(files[i],os.path.join(path,'val',folder,image))"
   ]
  },
  {
   "cell_type": "code",
   "execution_count": 37,
   "metadata": {},
   "outputs": [],
   "source": [
    "for i in shuffle[-2000:]:\n",
    "    folder=files[i].split('\\\\')[1]\n",
    "    image=files[i].split('\\\\')[-1]\n",
    "    os.rename(files[i],os.path.join(path,'test',folder,image))"
   ]
  },
  {
   "cell_type": "code",
   "execution_count": 38,
   "metadata": {},
   "outputs": [],
   "source": [
    "for i in shuffle[2000:-2000]:\n",
    "    folder=files[i].split('\\\\')[1]\n",
    "    image=files[i].split('\\\\')[-1]\n",
    "    os.rename(files[i],os.path.join(path,'train',folder,image))"
   ]
  },
  {
   "cell_type": "code",
   "execution_count": 22,
   "metadata": {},
   "outputs": [],
   "source": [
    "data_transforms = {\n",
    "    'train': transforms.Compose([\n",
    "        transforms.Resize((512,512)),\n",
    "        transforms.RandomRotation(15),\n",
    "        transforms.Pad(1),\n",
    "        transforms.CenterCrop(430),\n",
    "        transforms.Resize((224,224)),\n",
    "        transforms.ToTensor(),\n",
    "        transforms.Normalize([0.485, 0.456, 0.406], [0.229, 0.224, 0.225])]),\n",
    "    'val': transforms.Compose([\n",
    "        transforms.Resize((512,512)),\n",
    "        transforms.RandomRotation(15),\n",
    "        transforms.Pad(1),\n",
    "        transforms.CenterCrop(430),\n",
    "        transforms.Resize((224,224)),\n",
    "        transforms.ToTensor(),\n",
    "        transforms.Normalize([0.485, 0.456, 0.406], [0.229, 0.224, 0.225])]),\n",
    "    'test': transforms.Compose([\n",
    "        transforms.Resize((512,512)),\n",
    "        transforms.RandomRotation(15),\n",
    "        transforms.Pad(1),\n",
    "        transforms.CenterCrop(430),\n",
    "        transforms.Resize((224,224)),\n",
    "        transforms.ToTensor(),\n",
    "        transforms.Normalize([0.485, 0.456, 0.406], [0.229, 0.224, 0.225])]),\n",
    "    }"
   ]
  },
  {
   "cell_type": "code",
   "execution_count": 59,
   "metadata": {},
   "outputs": [],
   "source": [
    "image_datasets = {x: datasets.ImageFolder(os.path.join(path, x),\n",
    "                                          data_transforms[x])\n",
    "                  for x in ['train', 'val','test']}\n",
    "dataloaders = {x: torch.utils.data.DataLoader(image_datasets[x], batch_size=64,\n",
    "                                             shuffle=True, num_workers=6)\n",
    "              for x in ['train', 'val','test']}\n",
    "dataset_sizes = {x: len(image_datasets[x]) for x in ['train', 'val','test']}\n",
    "class_names = image_datasets['train'].classes"
   ]
  },
  {
   "cell_type": "code",
   "execution_count": 24,
   "metadata": {},
   "outputs": [
    {
     "data": {
      "text/plain": [
       "['APhones', 'Iphones']"
      ]
     },
     "execution_count": 24,
     "metadata": {},
     "output_type": "execute_result"
    }
   ],
   "source": [
    "class_names"
   ]
  },
  {
   "cell_type": "code",
   "execution_count": 50,
   "metadata": {},
   "outputs": [],
   "source": [
    "# get_model\n",
    "model_conv_1 = torchvision.models.resnet18(pretrained=True)\n",
    "for param in model_conv_1.parameters():param.requires_grad = False\n",
    "device = torch.device(\"cuda\" if torch.cuda.is_available() else \"cpu\")\n",
    "num_ftrs = model_conv_1.fc.in_features\n",
    "model_conv_1.fc = nn.Linear(num_ftrs, 2)\n",
    "model_conv_1 = model_conv_1.to(device)\n",
    "criterion = nn.CrossEntropyLoss()\n",
    "# Observe that only parameters of final layer are being optimized as\n",
    "# opposed to before.\n",
    "optimizer_conv = optim.Adam(model_conv_1.fc.parameters(), lr=0.0016)\n",
    "# Decay LR by a factor of 0.1 every 7 epochs\n",
    "exp_lr_scheduler = lr_scheduler.StepLR(optimizer_conv, step_size=7, gamma=0.1)"
   ]
  },
  {
   "cell_type": "code",
   "execution_count": 51,
   "metadata": {
    "scrolled": true
   },
   "outputs": [
    {
     "name": "stdout",
     "output_type": "stream",
     "text": [
      "Epoch 0/24\n",
      "----------\n",
      "train Loss: 0.5310 Acc: 0.7341  F1: 0.7503\n",
      "val Loss: 0.4604 Acc: 0.7357  F1: 0.7511\n",
      "\n",
      "Epoch 1/24\n",
      "----------\n",
      "train Loss: 0.5164 Acc: 0.7484  F1: 0.7622\n",
      "val Loss: 0.4517 Acc: 0.7498  F1: 0.7632\n",
      "\n",
      "Epoch 2/24\n",
      "----------\n",
      "train Loss: 0.5135 Acc: 0.7515  F1: 0.7652\n",
      "val Loss: 0.5616 Acc: 0.7503  F1: 0.7652\n",
      "\n",
      "Epoch 3/24\n",
      "----------\n",
      "train Loss: 0.5162 Acc: 0.7493  F1: 0.7639\n",
      "val Loss: 0.4622 Acc: 0.7505  F1: 0.7644\n",
      "\n",
      "Epoch 4/24\n",
      "----------\n",
      "train Loss: 0.5129 Acc: 0.7507  F1: 0.7648\n",
      "val Loss: 0.4632 Acc: 0.7511  F1: 0.7650\n",
      "\n",
      "Epoch 5/24\n",
      "----------\n",
      "train Loss: 0.5147 Acc: 0.7523  F1: 0.7674\n",
      "val Loss: 0.4696 Acc: 0.7533  F1: 0.7672\n",
      "\n",
      "Epoch 6/24\n",
      "----------\n",
      "train Loss: 0.4754 Acc: 0.7672  F1: 0.7825\n",
      "val Loss: 0.4458 Acc: 0.7679  F1: 0.7827\n",
      "\n",
      "Epoch 7/24\n",
      "----------\n",
      "train Loss: 0.4732 Acc: 0.7695  F1: 0.7845\n",
      "val Loss: 0.4472 Acc: 0.7701  F1: 0.7845\n",
      "\n",
      "Epoch 8/24\n",
      "----------\n",
      "train Loss: 0.4727 Acc: 0.7694  F1: 0.7851\n",
      "val Loss: 0.4522 Acc: 0.7699  F1: 0.7854\n",
      "\n",
      "Epoch 9/24\n",
      "----------\n",
      "train Loss: 0.4726 Acc: 0.7702  F1: 0.7857\n",
      "val Loss: 0.4567 Acc: 0.7706  F1: 0.7851\n",
      "\n",
      "Epoch 10/24\n",
      "----------\n",
      "train Loss: 0.4731 Acc: 0.7691  F1: 0.7842\n",
      "val Loss: 0.4442 Acc: 0.7698  F1: 0.7845\n",
      "\n",
      "Epoch 11/24\n",
      "----------\n",
      "train Loss: 0.4713 Acc: 0.7709  F1: 0.7862\n",
      "val Loss: 0.4512 Acc: 0.7712  F1: 0.7861\n",
      "\n",
      "Epoch 12/24\n",
      "----------\n",
      "train Loss: 0.4696 Acc: 0.7711  F1: 0.7863\n",
      "val Loss: 0.4415 Acc: 0.7717  F1: 0.7867\n",
      "\n",
      "Epoch 13/24\n",
      "----------\n",
      "train Loss: 0.4659 Acc: 0.7743  F1: 0.7899\n",
      "val Loss: 0.4440 Acc: 0.7746  F1: 0.7899\n",
      "\n",
      "Epoch 14/24\n",
      "----------\n",
      "train Loss: 0.4686 Acc: 0.7727  F1: 0.7873\n",
      "val Loss: 0.4514 Acc: 0.7732  F1: 0.7874\n",
      "\n",
      "Epoch 15/24\n",
      "----------\n",
      "train Loss: 0.4663 Acc: 0.7734  F1: 0.7889\n",
      "val Loss: 0.4515 Acc: 0.7737  F1: 0.7891\n",
      "\n",
      "Epoch 16/24\n",
      "----------\n",
      "train Loss: 0.4668 Acc: 0.7738  F1: 0.7896\n",
      "val Loss: 0.4432 Acc: 0.7744  F1: 0.7896\n",
      "\n",
      "Epoch 17/24\n",
      "----------\n",
      "train Loss: 0.4695 Acc: 0.7702  F1: 0.7854\n",
      "val Loss: 0.4387 Acc: 0.7712  F1: 0.7859\n",
      "\n",
      "Epoch 18/24\n",
      "----------\n",
      "train Loss: 0.4685 Acc: 0.7709  F1: 0.7863\n",
      "val Loss: 0.4465 Acc: 0.7714  F1: 0.7863\n",
      "\n",
      "Epoch 19/24\n",
      "----------\n",
      "train Loss: 0.4678 Acc: 0.7721  F1: 0.7874\n",
      "val Loss: 0.4460 Acc: 0.7725  F1: 0.7875\n",
      "\n",
      "Epoch 20/24\n",
      "----------\n",
      "train Loss: 0.4666 Acc: 0.7738  F1: 0.7891\n",
      "val Loss: 0.4484 Acc: 0.7739  F1: 0.7892\n",
      "\n",
      "Epoch 21/24\n",
      "----------\n",
      "train Loss: 0.4669 Acc: 0.7719  F1: 0.7874\n",
      "val Loss: 0.4456 Acc: 0.7726  F1: 0.7876\n",
      "\n",
      "Epoch 22/24\n",
      "----------\n",
      "train Loss: 0.4658 Acc: 0.7740  F1: 0.7895\n",
      "val Loss: 0.4522 Acc: 0.7745  F1: 0.7895\n",
      "\n",
      "Epoch 23/24\n",
      "----------\n",
      "train Loss: 0.4669 Acc: 0.7732  F1: 0.7888\n",
      "val Loss: 0.4433 Acc: 0.7738  F1: 0.7889\n",
      "\n",
      "Epoch 24/24\n",
      "----------\n",
      "train Loss: 0.4633 Acc: 0.7764  F1: 0.7915\n",
      "val Loss: 0.4419 Acc: 0.7768  F1: 0.7916\n",
      "\n",
      "Training complete in 69m 59s\n",
      "Best val Acc: 0.7768 F1: 0.7916\n"
     ]
    }
   ],
   "source": [
    "model2=train_model(model_conv_1,criterion, optimizer_conv, exp_lr_scheduler, num_epochs=25)"
   ]
  },
  {
   "cell_type": "code",
   "execution_count": 52,
   "metadata": {},
   "outputs": [],
   "source": [
    "checkpoint = {'model': model2,\n",
    "          'state_dict': model2.state_dict(),\n",
    "          'optimizer' : optimizer_conv.state_dict()}\n",
    "\n",
    "torch.save(checkpoint, 'mearge2_batch16.pth')"
   ]
  },
  {
   "cell_type": "code",
   "execution_count": 53,
   "metadata": {},
   "outputs": [],
   "source": [
    "inputs,y_true,y_pred,f1_test_distribe=boostrap_test(model2,dataloaders['test'])"
   ]
  },
  {
   "cell_type": "code",
   "execution_count": 57,
   "metadata": {},
   "outputs": [
    {
     "name": "stdout",
     "output_type": "stream",
     "text": [
      "real_mean: 0.7848157005143195\n"
     ]
    }
   ],
   "source": [
    "print ('real_mean:',np.mean(f1_test_distribe))"
   ]
  },
  {
   "cell_type": "code",
   "execution_count": 58,
   "metadata": {
    "scrolled": false
   },
   "outputs": [
    {
     "data": {
      "text/plain": [
       "(array([ 4.,  4.,  7., 13., 18., 19., 17., 20., 16.,  7.]),\n",
       " array([0.5 , 0.55, 0.6 , 0.65, 0.7 , 0.75, 0.8 , 0.85, 0.9 , 0.95, 1.  ]),\n",
       " <a list of 10 Patch objects>)"
      ]
     },
     "execution_count": 58,
     "metadata": {},
     "output_type": "execute_result"
    },
    {
     "data": {
      "image/png": "[encoded data removed]",
      "text/plain": [
       "<Figure size 432x288 with 1 Axes>"
      ]
     },
     "metadata": {
      "needs_background": "light"
     },
     "output_type": "display_data"
    }
   ],
   "source": [
    "hist(f1_test_distribe)"
   ]
  },
  {
   "cell_type": "markdown",
   "metadata": {},
   "source": [
    "Good news, now the model is stable and lies in the interval 70%-90%. So,lets try to use more deep net"
   ]
  },
  {
   "cell_type": "markdown",
   "metadata": {},
   "source": [
    "## ResNet50"
   ]
  },
  {
   "cell_type": "code",
   "execution_count": 32,
   "metadata": {},
   "outputs": [
    {
     "name": "stderr",
     "output_type": "stream",
     "text": [
      "Downloading: \"https://download.pytorch.org/models/resnet50-19c8e357.pth\" to C:\\Users\\Антон/.cache\\torch\\checkpoints\\resnet50-19c8e357.pth\n",
      "100%|██████████| 102502400/102502400 [00:15<00:00, 6777781.98it/s]\n"
     ]
    }
   ],
   "source": [
    "# get_model\n",
    "model_conv_2 = torchvision.models.resnet50(pretrained=True)\n",
    "for param in model_conv_2.parameters():param.requires_grad = False\n",
    "device = torch.device(\"cuda\" if torch.cuda.is_available() else \"cpu\")\n",
    "num_ftrs = model_conv_2.fc.in_features\n",
    "model_conv_2.fc = nn.Linear(num_ftrs, 2)\n",
    "model_conv_2 = model_conv_2.to(device)\n",
    "criterion = nn.CrossEntropyLoss()\n",
    "# Observe that only parameters of final layer are being optimized as\n",
    "# opposed to before.\n",
    "optimizer_conv = optim.Adam(model_conv_2.fc.parameters(), lr=0.00016)\n",
    "# Decay LR by a factor of 0.1 every 7 epochs\n",
    "exp_lr_scheduler = lr_scheduler.StepLR(optimizer_conv, step_size=7, gamma=0.1)"
   ]
  },
  {
   "cell_type": "code",
   "execution_count": 56,
   "metadata": {
    "collapsed": true
   },
   "outputs": [
    {
     "name": "stdout",
     "output_type": "stream",
     "text": [
      "Epoch 0/23\n",
      "----------\n"
     ]
    },
    {
     "ename": "KeyboardInterrupt",
     "evalue": "",
     "output_type": "error",
     "traceback": [
      "\u001b[1;31m---------------------------------------------------------------------------\u001b[0m",
      "\u001b[1;31mKeyboardInterrupt\u001b[0m                         Traceback (most recent call last)",
      "\u001b[1;32m<ipython-input-56-315afc3b76a4>\u001b[0m in \u001b[0;36m<module>\u001b[1;34m\u001b[0m\n\u001b[1;32m----> 1\u001b[1;33m \u001b[0mmodel3\u001b[0m\u001b[1;33m=\u001b[0m\u001b[0mtrain_model\u001b[0m\u001b[1;33m(\u001b[0m\u001b[0mmodel3\u001b[0m\u001b[1;33m,\u001b[0m\u001b[0mcriterion\u001b[0m\u001b[1;33m,\u001b[0m \u001b[0moptimizer_conv\u001b[0m\u001b[1;33m,\u001b[0m \u001b[0mexp_lr_scheduler\u001b[0m\u001b[1;33m,\u001b[0m \u001b[0mnum_epochs\u001b[0m\u001b[1;33m=\u001b[0m\u001b[1;36m24\u001b[0m\u001b[1;33m)\u001b[0m\u001b[1;33m\u001b[0m\u001b[1;33m\u001b[0m\u001b[0m\n\u001b[0m",
      "\u001b[1;32m<ipython-input-2-9ef8abd097c8>\u001b[0m in \u001b[0;36mtrain_model\u001b[1;34m(model, criterion, optimizer, scheduler, num_epochs)\u001b[0m\n\u001b[0;32m     23\u001b[0m             \u001b[1;31m# Iterate over data.\u001b[0m\u001b[1;33m\u001b[0m\u001b[1;33m\u001b[0m\u001b[1;33m\u001b[0m\u001b[0m\n\u001b[0;32m     24\u001b[0m             \u001b[1;32mfor\u001b[0m \u001b[0minputs\u001b[0m\u001b[1;33m,\u001b[0m \u001b[0mlabels\u001b[0m \u001b[1;32min\u001b[0m \u001b[0mdataloaders\u001b[0m\u001b[1;33m[\u001b[0m\u001b[0mphase\u001b[0m\u001b[1;33m]\u001b[0m\u001b[1;33m:\u001b[0m\u001b[1;33m\u001b[0m\u001b[1;33m\u001b[0m\u001b[0m\n\u001b[1;32m---> 25\u001b[1;33m                 \u001b[0minputs\u001b[0m \u001b[1;33m=\u001b[0m \u001b[0minputs\u001b[0m\u001b[1;33m.\u001b[0m\u001b[0mto\u001b[0m\u001b[1;33m(\u001b[0m\u001b[0mdevice\u001b[0m\u001b[1;33m)\u001b[0m\u001b[1;33m\u001b[0m\u001b[1;33m\u001b[0m\u001b[0m\n\u001b[0m\u001b[0;32m     26\u001b[0m                 \u001b[0mlabels\u001b[0m \u001b[1;33m=\u001b[0m \u001b[0mlabels\u001b[0m\u001b[1;33m.\u001b[0m\u001b[0mto\u001b[0m\u001b[1;33m(\u001b[0m\u001b[0mdevice\u001b[0m\u001b[1;33m)\u001b[0m\u001b[1;33m\u001b[0m\u001b[1;33m\u001b[0m\u001b[0m\n\u001b[0;32m     27\u001b[0m \u001b[1;33m\u001b[0m\u001b[0m\n",
      "\u001b[1;31mKeyboardInterrupt\u001b[0m: "
     ]
    }
   ],
   "source": [
    "model3=train_model(model3,criterion, optimizer_conv, exp_lr_scheduler, num_epochs=24)"
   ]
  },
  {
   "cell_type": "code",
   "execution_count": null,
   "metadata": {},
   "outputs": [],
   "source": [
    "checkpoint = {'model': model3,\n",
    "          'state_dict': model3.state_dict(),\n",
    "          'optimizer' : optimizer_conv.state_dict()}\n",
    "\n",
    "torch.save(checkpoint, 'resnet50_batch15.pth')"
   ]
  },
  {
   "cell_type": "code",
   "execution_count": null,
   "metadata": {},
   "outputs": [],
   "source": [
    "dataloaders = torch.utils.data.DataLoader(image_datasets['test'], batch_size=16,\n",
    "                                             shuffle=True, num_workers=6)"
   ]
  },
  {
   "cell_type": "code",
   "execution_count": null,
   "metadata": {},
   "outputs": [],
   "source": [
    "y_true,y_pred,f1_test_distribe=boostrap_test(model3,dataloaders)\n",
    "print ('real_mean:',np.mean(f1_test_distribe))"
   ]
  },
  {
   "cell_type": "code",
   "execution_count": 48,
   "metadata": {
    "scrolled": true
   },
   "outputs": [
    {
     "data": {
      "text/plain": [
       "(array([ 2.,  4.,  3.,  8., 10., 23., 27., 25., 12., 11.]),\n",
       " array([0.5 , 0.55, 0.6 , 0.65, 0.7 , 0.75, 0.8 , 0.85, 0.9 , 0.95, 1.  ]),\n",
       " <a list of 10 Patch objects>)"
      ]
     },
     "execution_count": 48,
     "metadata": {},
     "output_type": "execute_result"
    },
    {
     "data": {
      "image/png": "[encoded data removed]",
      "text/plain": [
       "<Figure size 432x288 with 1 Axes>"
      ]
     },
     "metadata": {
      "needs_background": "light"
     },
     "output_type": "display_data"
    }
   ],
   "source": [
    "hist(f1_test_distribe)"
   ]
  },
  {
   "cell_type": "markdown",
   "metadata": {},
   "source": [
    "## Full learning Resnet18"
   ]
  },
  {
   "cell_type": "code",
   "execution_count": 4,
   "metadata": {},
   "outputs": [],
   "source": [
    "path='Final_set'"
   ]
  },
  {
   "cell_type": "code",
   "execution_count": 2,
   "metadata": {},
   "outputs": [],
   "source": [
    "data_transforms = {\n",
    "    'train': transforms.Compose([\n",
    "        transforms.Resize((512,512)),\n",
    "        transforms.RandomRotation(15),\n",
    "        transforms.Pad(1),\n",
    "        transforms.CenterCrop(430),\n",
    "        transforms.Resize((224,224)),\n",
    "#         transforms.RandomHorizontalFlip(),\n",
    "#         transforms.RandomVerticalFlip(),\n",
    "        transforms.ToTensor(),\n",
    "        transforms.Normalize([0.485, 0.456, 0.406], [0.229, 0.224, 0.225])]),\n",
    "    'val': transforms.Compose([\n",
    "        transforms.Resize((224,224)),\n",
    "        transforms.ToTensor(),\n",
    "        transforms.Normalize([0.485, 0.456, 0.406], [0.229, 0.224, 0.225])]),\n",
    "    'test': transforms.Compose([\n",
    "        transforms.Resize((224,224)),\n",
    "        transforms.ToTensor(),\n",
    "        transforms.Normalize([0.485, 0.456, 0.406], [0.229, 0.224, 0.225])]),\n",
    "    }"
   ]
  },
  {
   "cell_type": "code",
   "execution_count": 5,
   "metadata": {
    "scrolled": true
   },
   "outputs": [],
   "source": [
    "image_datasets = {x: datasets.ImageFolder(os.path.join(path, x),\n",
    "                                          data_transforms[x])\n",
    "                  for x in ['train', 'val','test']}\n",
    "dataloaders = {x: torch.utils.data.DataLoader(image_datasets[x], batch_size=64,\n",
    "                                             shuffle=True, num_workers=6)\n",
    "              for x in ['train', 'val','test']}\n",
    "dataset_sizes = {x: len(image_datasets[x]) for x in ['train', 'val','test']}\n",
    "class_names = image_datasets['train'].classes"
   ]
  },
  {
   "cell_type": "code",
   "execution_count": 17,
   "metadata": {},
   "outputs": [
    {
     "data": {
      "text/plain": [
       "['APhones', 'Iphones']"
      ]
     },
     "execution_count": 17,
     "metadata": {},
     "output_type": "execute_result"
    }
   ],
   "source": [
    "class_names"
   ]
  },
  {
   "cell_type": "code",
   "execution_count": 12,
   "metadata": {},
   "outputs": [],
   "source": [
    "# get_model\n",
    "model_conv_1 = torchvision.models.resnet18(pretrained=False)\n",
    "device = torch.device(\"cuda\" if torch.cuda.is_available() else \"cpu\")\n",
    "num_ftrs = model_conv_1.fc.in_features\n",
    "model_conv_1.fc = nn.Linear(num_ftrs, 2)\n",
    "model_conv_1 = model_conv_1.to(device)\n",
    "criterion = nn.CrossEntropyLoss()\n",
    "optimizer_conv = optim.SGD(model_conv_1.parameters(), lr=0.0019, momentum=0.9)\n",
    "exp_lr_scheduler = lr_scheduler.StepLR(optimizer_conv, step_size=7, gamma=0.1)"
   ]
  },
  {
   "cell_type": "code",
   "execution_count": 19,
   "metadata": {},
   "outputs": [],
   "source": [
    "def save_model1(model_conv_1):\n",
    "    checkpoint = {'model': model_conv_1,\n",
    "              'state_dict': model_conv_1.state_dict(),\n",
    "              'optimizer' : optimizer_conv.state_dict()}\n",
    "\n",
    "    torch.save(checkpoint, 'new_test.pth')"
   ]
  },
  {
   "cell_type": "code",
   "execution_count": 24,
   "metadata": {},
   "outputs": [],
   "source": [
    "# def load_checkpoint(filepath):\n",
    "#     checkpoint = torch.load(filepath)\n",
    "#     model = checkpoint['model']\n",
    "#     model.load_state_dict(checkpoint['state_dict'])\n",
    "#     model.eval()\n",
    "#     return model\n",
    "# model_conv_1 = load_checkpoint('mearge2_batch16.pth')"
   ]
  },
  {
   "cell_type": "code",
   "execution_count": 26,
   "metadata": {},
   "outputs": [],
   "source": [
    "optimizer_conv = optim.Adam(model_conv_1.parameters(), lr=0.0019)\n",
    "exp_lr_scheduler = lr_scheduler.StepLR(optimizer_conv, step_size=7, gamma=0.1)"
   ]
  },
  {
   "cell_type": "code",
   "execution_count": 9,
   "metadata": {},
   "outputs": [],
   "source": [
    "def train_model1(model,criterion, optimizer, scheduler, num_epochs=25):\n",
    "    model1=model\n",
    "    since = time.time()\n",
    "    best_model_f1 = copy.deepcopy(model.state_dict())\n",
    "    best_acc,best_f1 = 0.0,0.0\n",
    "    for epoch in range(num_epochs):\n",
    "        since1 = time.time()\n",
    "        epoch_f1_collection=[]\n",
    "        epoch_acc_collection=[]\n",
    "        print('Epoch {}/{}'.format(epoch, num_epochs - 1))\n",
    "        print('-' * 10)\n",
    "\n",
    "        # Each epoch has a training and validation phase\n",
    "        for phase in ['train', 'val']:\n",
    "            if phase == 'train':\n",
    "                scheduler.step()\n",
    "                model.train()  # Set model to training mode\n",
    "            else:\n",
    "                model.eval()   # Set model to evaluate mode\n",
    "\n",
    "            running_loss = 0.0\n",
    "            running_corrects = 0\n",
    "\n",
    "            # Iterate over data.\n",
    "            for inputs, labels in dataloaders[phase]:\n",
    "                inputs = inputs.to(device)\n",
    "                labels = labels.to(device)\n",
    "\n",
    "                # zero the parameter gradients\n",
    "                optimizer.zero_grad()\n",
    "\n",
    "                # forward\n",
    "                # track history if only in train\n",
    "                \n",
    "                with torch.set_grad_enabled(phase == 'train'):\n",
    "                    outputs = model(inputs)\n",
    "                    _, preds = torch.max(outputs, 1)\n",
    "                    loss = criterion(outputs, labels)\n",
    "                    y_true=labels.cpu().data.numpy()\n",
    "                    y_pred=preds.cpu().data.numpy()\n",
    "                    epoch_f1=metrics.f1_score(y_true, y_pred , average='binary')\n",
    "                    epoch_f1_collection.append(epoch_f1)\n",
    "                    epoch_acc=metrics.accuracy_score(y_true, y_pred)\n",
    "                    epoch_acc_collection.append(epoch_acc)\n",
    "                    # backward + optimize only if in training phase\n",
    "                    if phase == 'train':\n",
    "                        loss.backward()\n",
    "                        optimizer.step()\n",
    "        \n",
    "                # statistics\n",
    "                running_loss += loss.item() * inputs.size(0)\n",
    "                running_corrects += torch.sum(preds == labels.data)\n",
    "            #             Statistic metrics\n",
    "            epoch_loss = running_loss / dataset_sizes[phase]             \n",
    "            print('{} Loss: {:.4f} Acc: {:.4f}  F1: {:.4f}'.format(\n",
    "                phase, epoch_loss, np.mean(epoch_acc_collection),np.mean(epoch_f1_collection)))\n",
    "            time_elapsed1 = time.time() - since1\n",
    "            print('Epoch complete in {:.0f}m {:.0f}s'.format(\n",
    "            time_elapsed1 // 60, time_elapsed1 % 60))\n",
    "            # deep copy the model\n",
    "            if phase == 'val' and np.mean(epoch_acc_collection) > best_acc:\n",
    "                best_acc = np.mean(epoch_acc_collection)\n",
    "            if phase == 'val' and np.mean(epoch_f1_collection) > best_f1:\n",
    "                best_f1 = np.mean(epoch_f1_collection)\n",
    "                best_model_f1 = copy.deepcopy(model.state_dict())\n",
    "                model1.load_state_dict(best_model_f1)\n",
    "                save_model1(model1)\n",
    "\n",
    "        print()\n",
    "\n",
    "    time_elapsed = time.time() - since\n",
    "    print('Training complete in {:.0f}m {:.0f}s'.format(\n",
    "        time_elapsed // 60, time_elapsed % 60))\n",
    "    print('Best val Acc: {:.4f} F1: {:.4f}'.format(best_acc,best_f1))\n",
    "    model.load_state_dict(best_model_f1)\n",
    "    \n",
    "    return model"
   ]
  },
  {
   "cell_type": "code",
   "execution_count": 26,
   "metadata": {},
   "outputs": [],
   "source": [
    "optimizer_conv = optim.Adam(model_conv_1.parameters(), lr=0.001)\n",
    "exp_lr_scheduler = lr_scheduler.StepLR(optimizer_conv, step_size=11, gamma=0.1)"
   ]
  },
  {
   "cell_type": "code",
   "execution_count": 2,
   "metadata": {},
   "outputs": [],
   "source": [
    "def load_checkpoint(filepath):\n",
    "    checkpoint = torch.load(filepath)\n",
    "    model = checkpoint['model']\n",
    "    model.load_state_dict(checkpoint['state_dict'])\n",
    "    model.eval()\n",
    "    return model"
   ]
  },
  {
   "cell_type": "code",
   "execution_count": 10,
   "metadata": {},
   "outputs": [],
   "source": [
    "model_conv_1=load_checkpoint('good.pth')\n"
   ]
  },
  {
   "cell_type": "code",
   "execution_count": 12,
   "metadata": {},
   "outputs": [],
   "source": [
    "# model=model_conv_1.to('cpu')"
   ]
  },
  {
   "cell_type": "code",
   "execution_count": null,
   "metadata": {},
   "outputs": [],
   "source": [
    "checkpoint = {'model': model_conv_1,\n",
    "          'state_dict': model_conv_1.state_dict(),\n",
    "          'optimizer' : optimizer_conv.state_dict()}\n",
    "\n",
    "torch.save(checkpoint, 'lada_1.pth')"
   ]
  },
  {
   "cell_type": "code",
   "execution_count": 27,
   "metadata": {
    "collapsed": true
   },
   "outputs": [
    {
     "name": "stdout",
     "output_type": "stream",
     "text": [
      "Epoch 0/1\n",
      "----------\n",
      "train Loss: 0.1779 Acc: 0.9222  F1: 0.9233\n",
      "Epoch complete in 6m 8s\n",
      "val Loss: 0.5192 Acc: 0.9190  F1: 0.9209\n",
      "Epoch complete in 6m 13s\n",
      "\n",
      "Epoch 1/1\n",
      "----------\n"
     ]
    },
    {
     "ename": "KeyboardInterrupt",
     "evalue": "",
     "output_type": "error",
     "traceback": [
      "\u001b[0;31m---------------------------------------------------------------------------\u001b[0m",
      "\u001b[0;31mKeyboardInterrupt\u001b[0m                         Traceback (most recent call last)",
      "\u001b[0;32m<ipython-input-27-9f13e6e525fb>\u001b[0m in \u001b[0;36m<module>\u001b[0;34m\u001b[0m\n\u001b[0;32m----> 1\u001b[0;31m \u001b[0mmodel_conv_1\u001b[0m\u001b[0;34m=\u001b[0m\u001b[0mtrain_model1\u001b[0m\u001b[0;34m(\u001b[0m\u001b[0mmodel_conv_1\u001b[0m\u001b[0;34m,\u001b[0m\u001b[0mcriterion\u001b[0m\u001b[0;34m,\u001b[0m \u001b[0moptimizer_conv\u001b[0m\u001b[0;34m,\u001b[0m \u001b[0mexp_lr_scheduler\u001b[0m\u001b[0;34m,\u001b[0m \u001b[0mnum_epochs\u001b[0m\u001b[0;34m=\u001b[0m\u001b[0;36m2\u001b[0m\u001b[0;34m)\u001b[0m\u001b[0;34m\u001b[0m\u001b[0;34m\u001b[0m\u001b[0m\n\u001b[0m",
      "\u001b[0;32m<ipython-input-9-e34b3dd753cf>\u001b[0m in \u001b[0;36mtrain_model1\u001b[0;34m(model, criterion, optimizer, scheduler, num_epochs)\u001b[0m\n\u001b[1;32m     49\u001b[0m \u001b[0;34m\u001b[0m\u001b[0m\n\u001b[1;32m     50\u001b[0m                 \u001b[0;31m# statistics\u001b[0m\u001b[0;34m\u001b[0m\u001b[0;34m\u001b[0m\u001b[0;34m\u001b[0m\u001b[0m\n\u001b[0;32m---> 51\u001b[0;31m                 \u001b[0mrunning_loss\u001b[0m \u001b[0;34m+=\u001b[0m \u001b[0mloss\u001b[0m\u001b[0;34m.\u001b[0m\u001b[0mitem\u001b[0m\u001b[0;34m(\u001b[0m\u001b[0;34m)\u001b[0m \u001b[0;34m*\u001b[0m \u001b[0minputs\u001b[0m\u001b[0;34m.\u001b[0m\u001b[0msize\u001b[0m\u001b[0;34m(\u001b[0m\u001b[0;36m0\u001b[0m\u001b[0;34m)\u001b[0m\u001b[0;34m\u001b[0m\u001b[0;34m\u001b[0m\u001b[0m\n\u001b[0m\u001b[1;32m     52\u001b[0m                 \u001b[0mrunning_corrects\u001b[0m \u001b[0;34m+=\u001b[0m \u001b[0mtorch\u001b[0m\u001b[0;34m.\u001b[0m\u001b[0msum\u001b[0m\u001b[0;34m(\u001b[0m\u001b[0mpreds\u001b[0m \u001b[0;34m==\u001b[0m \u001b[0mlabels\u001b[0m\u001b[0;34m.\u001b[0m\u001b[0mdata\u001b[0m\u001b[0;34m)\u001b[0m\u001b[0;34m\u001b[0m\u001b[0;34m\u001b[0m\u001b[0m\n\u001b[1;32m     53\u001b[0m             \u001b[0;31m#             Statistic metrics\u001b[0m\u001b[0;34m\u001b[0m\u001b[0;34m\u001b[0m\u001b[0;34m\u001b[0m\u001b[0m\n",
      "\u001b[0;31mKeyboardInterrupt\u001b[0m: "
     ]
    }
   ],
   "source": [
    "model_conv_1=train_model1(model_conv_1,criterion, optimizer_conv, exp_lr_scheduler, num_epochs=2)"
   ]
  },
  {
   "cell_type": "code",
   "execution_count": 25,
   "metadata": {},
   "outputs": [],
   "source": [
    "checkpoint = {'model': model_conv_1,\n",
    "          'state_dict': model_conv_1.state_dict(),\n",
    "          'optimizer' : optimizer_conv.state_dict()}\n",
    "\n",
    "torch.save(checkpoint, 'model_ip.pth')"
   ]
  },
  {
   "cell_type": "markdown",
   "metadata": {},
   "source": [
    "## Final test Area under precision and recall"
   ]
  },
  {
   "cell_type": "code",
   "execution_count": 5,
   "metadata": {
    "collapsed": true
   },
   "outputs": [
    {
     "name": "stderr",
     "output_type": "stream",
     "text": [
      "C:\\ProgramData\\Anaconda3\\lib\\site-packages\\torch\\serialization.py:454: SourceChangeWarning: source code of class 'torchvision.models.resnet.ResNet' has changed. you can retrieve the original source code by accessing the object's source attribute or set `torch.nn.Module.dump_patches = True` and use the patch tool to revert the changes.\n",
      "  warnings.warn(msg, SourceChangeWarning)\n",
      "C:\\ProgramData\\Anaconda3\\lib\\site-packages\\torch\\serialization.py:454: SourceChangeWarning: source code of class 'torchvision.models.resnet.BasicBlock' has changed. you can retrieve the original source code by accessing the object's source attribute or set `torch.nn.Module.dump_patches = True` and use the patch tool to revert the changes.\n",
      "  warnings.warn(msg, SourceChangeWarning)\n"
     ]
    }
   ],
   "source": [
    "model=load_checkpoint('model_ip.pth')"
   ]
  },
  {
   "cell_type": "code",
   "execution_count": 6,
   "metadata": {},
   "outputs": [],
   "source": [
    "#Image convert\n",
    "data_transforms = transforms.Compose([\n",
    "    transforms.Resize((224,224)),\n",
    "    transforms.ToTensor(),\n",
    "    transforms.Normalize([0.485, 0.456, 0.406], [0.229, 0.224, 0.225])])\n",
    "#Define images loader\n",
    "image_datasets = ImageFolder('Final_set\\\\test',data_transforms)\n",
    "test_data_gen=torch.utils.data.DataLoader(image_datasets, batch_size=256,shuffle=False, num_workers=6)"
   ]
  },
  {
   "cell_type": "code",
   "execution_count": 7,
   "metadata": {},
   "outputs": [
    {
     "name": "stderr",
     "output_type": "stream",
     "text": [
      "C:\\ProgramData\\Anaconda3\\lib\\site-packages\\torch\\nn\\modules\\container.py:92: UserWarning: Implicit dimension choice for softmax has been deprecated. Change the call to include dim=X as an argument.\n",
      "  input = module(input)\n"
     ]
    },
    {
     "name": "stdout",
     "output_type": "stream",
     "text": [
      "0.9741226669568382\n"
     ]
    }
   ],
   "source": [
    "from sklearn.metrics import average_precision_score\n",
    "preds=np.array([])\n",
    "true=np.array([])\n",
    "for inputs, labels in test_data_gen:\n",
    "    preds=np.append(preds,model(inputs).data.numpy()[:,1])\n",
    "    true=np.append(true,labels)\n",
    "print (average_precision_score(true, preds)) "
   ]
  }
 ],
 "metadata": {
  "kernelspec": {
   "display_name": "Python 3",
   "language": "python",
   "name": "python3"
  },
  "language_info": {
   "codemirror_mode": {
    "name": "ipython",
    "version": 3
   },
   "file_extension": ".py",
   "mimetype": "text/x-python",
   "name": "python",
   "nbconvert_exporter": "python",
   "pygments_lexer": "ipython3",
   "version": "3.7.3"
  },
  "varInspector": {
   "cols": {
    "lenName": 16,
    "lenType": 16,
    "lenVar": 40
   },
   "kernels_config": {
    "python": {
     "delete_cmd_postfix": "",
     "delete_cmd_prefix": "del ",
     "library": "var_list.py",
     "varRefreshCmd": "print(var_dic_list())"
    },
    "r": {
     "delete_cmd_postfix": ") ",
     "delete_cmd_prefix": "rm(",
     "library": "var_list.r",
     "varRefreshCmd": "cat(var_dic_list()) "
    }
   },
   "types_to_exclude": [
    "module",
    "function",
    "builtin_function_or_method",
    "instance",
    "_Feature"
   ],
   "window_display": false
  }
 },
 "nbformat": 4,
 "nbformat_minor": 2
}
